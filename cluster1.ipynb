{
 "cells": [
  {
   "cell_type": "markdown",
   "metadata": {},
   "source": [
    "## Rules of this Notebook:\n",
    "### <span style = 'color:red'> Note: Read this time and again, as and when you feel like you have forgotten the rules</span> \n",
    "\n",
    "Note alse that this notebook has the three datasets `swipesmonth1719`, `years` and `bio`.\n",
    "\n",
    "* Filter and join only using SQL commands (never Python), except when experimenting:\n",
    "\n",
    "    1) Use `swipesmonth1719` and `years` tables ONLY for SQL queries\n",
    "    \n",
    "* Use python for anything else, but you may also use SQL for any other functionality"
   ]
  },
  {
   "cell_type": "code",
   "execution_count": 68,
   "metadata": {},
   "outputs": [],
   "source": [
    "import pandas as pd\n",
    "import numpy as np\n",
    "import matplotlib.pyplot as plt\n",
    "import seaborn as sns"
   ]
  },
  {
   "cell_type": "markdown",
   "metadata": {},
   "source": [
    "#### Load Data"
   ]
  },
  {
   "cell_type": "code",
   "execution_count": 69,
   "metadata": {},
   "outputs": [],
   "source": [
    "swipesmonth1719 = pd.read_csv(r'C:\\Users\\BILLIONAIRE\\Documents\\2019-MASTERS\\MAIN\\EDUCATION\\DATA\\WORKING\\swipesmonth1719.csv')"
   ]
  },
  {
   "cell_type": "code",
   "execution_count": 70,
   "metadata": {},
   "outputs": [],
   "source": [
    "years = pd.read_csv('C:/Users/BILLIONAIRE/Documents/2019-MASTERS/MAIN/EDUCATION/DATA/WORKING/years.csv')"
   ]
  },
  {
   "cell_type": "code",
   "execution_count": 71,
   "metadata": {},
   "outputs": [],
   "source": [
    "bio = pd.read_csv(r'C:\\Users\\BILLIONAIRE\\Documents\\2019-MASTERS\\MAIN\\EDUCATION\\DATA\\WORKING\\bio.csv')"
   ]
  },
  {
   "cell_type": "markdown",
   "metadata": {},
   "source": [
    "### Pandas Profiling bio"
   ]
  },
  {
   "cell_type": "code",
   "execution_count": 61,
   "metadata": {},
   "outputs": [],
   "source": [
    "import pandas_profiling"
   ]
  },
  {
   "cell_type": "code",
   "execution_count": null,
   "metadata": {},
   "outputs": [],
   "source": [
    "pf_bio = pandas_profiling.ProfileReport(bio)"
   ]
  },
  {
   "cell_type": "code",
   "execution_count": 57,
   "metadata": {},
   "outputs": [],
   "source": [
    "pf_bio.to_file(output_file=\"bio.html\")"
   ]
  },
  {
   "cell_type": "markdown",
   "metadata": {},
   "source": [
    "### Pandas Profiling swipesmonth1719"
   ]
  },
  {
   "cell_type": "code",
   "execution_count": 59,
   "metadata": {},
   "outputs": [],
   "source": [
    "pf_swipesmonth1719 = pandas_profiling.ProfileReport(swipesmonth1719)"
   ]
  },
  {
   "cell_type": "code",
   "execution_count": 60,
   "metadata": {},
   "outputs": [],
   "source": [
    "pf_swipesmonth1719.to_file(output_file=\"swipesMonth1719.html\")"
   ]
  },
  {
   "cell_type": "markdown",
   "metadata": {},
   "source": [
    "### Pandas Profiling years"
   ]
  },
  {
   "cell_type": "code",
   "execution_count": 62,
   "metadata": {},
   "outputs": [],
   "source": [
    "pf_years = pandas_profiling.ProfileReport(years)"
   ]
  },
  {
   "cell_type": "code",
   "execution_count": 63,
   "metadata": {},
   "outputs": [],
   "source": [
    "pf_years.to_file(output_file=\"years.html\")"
   ]
  },
  {
   "cell_type": "markdown",
   "metadata": {},
   "source": [
    "## SQL Imports"
   ]
  },
  {
   "cell_type": "code",
   "execution_count": 21,
   "metadata": {},
   "outputs": [],
   "source": [
    "from pandasql import sqldf\n",
    "from pandasql import load_meat, load_births\n",
    "from pandasql import *\n",
    "pysqldf = lambda q: sqldf(q, globals())\n",
    "pd.set_option('display.max_columns', 500)"
   ]
  },
  {
   "cell_type": "code",
   "execution_count": 41,
   "metadata": {},
   "outputs": [],
   "source": [
    "def filterSwipe(facility_type, year_icam):\n",
    "    return pysqldf(\n",
    "        '''\n",
    "        select \n",
    "            swipesmonth1719.user_id, swipesmonth1719.month_icam, swipesmonth1719.duration_minutes, \n",
    "            swipesmonth1719.no_of_days, bio.residence_description  \n",
    "        from swipesmonth1719\n",
    "        left join bio on swipesmonth1719.user_id = bio.student_number\n",
    "        where \n",
    "            swipesmonth1719.facility_type = 'Lib'\n",
    "            and swipesmonth1719.year_icam = '2017'\n",
    "            and bio.calendar_inst_year = '2017'\n",
    "        '''.format(facility_type, year_icam)\n",
    "       )"
   ]
  },
  {
   "cell_type": "code",
   "execution_count": 42,
   "metadata": {},
   "outputs": [],
   "source": [
    "swipesmonthLib17 = filterSwipe('Lib', 2017)"
   ]
  },
  {
   "cell_type": "markdown",
   "metadata": {},
   "source": [
    "### Parse to numeric for `duration_minutes` and `unit_latest_mark`"
   ]
  },
  {
   "cell_type": "code",
   "execution_count": 43,
   "metadata": {},
   "outputs": [],
   "source": [
    "swipesmonthLib17['duration_minutes'] = swipesmonthLib17['duration_minutes'].str.replace(',', '.', regex = False)\n",
    "swipesmonthLib17['duration_minutes'] = pd.to_numeric(swipesmonthLib17['duration_minutes'])"
   ]
  },
  {
   "cell_type": "code",
   "execution_count": 72,
   "metadata": {},
   "outputs": [],
   "source": [
    "swipesmonthLib17 = swipesmonthLib17.fillna(0)"
   ]
  },
  {
   "cell_type": "code",
   "execution_count": 73,
   "metadata": {
    "scrolled": true
   },
   "outputs": [],
   "source": [
    "a = swipesmonthLib17[swipesmonthLib17['residence_description'] != 'Not In Residence']"
   ]
  },
  {
   "cell_type": "code",
   "execution_count": 74,
   "metadata": {},
   "outputs": [
    {
     "data": {
      "text/html": [
       "<div>\n",
       "<style scoped>\n",
       "    .dataframe tbody tr th:only-of-type {\n",
       "        vertical-align: middle;\n",
       "    }\n",
       "\n",
       "    .dataframe tbody tr th {\n",
       "        vertical-align: top;\n",
       "    }\n",
       "\n",
       "    .dataframe thead th {\n",
       "        text-align: right;\n",
       "    }\n",
       "</style>\n",
       "<table border=\"1\" class=\"dataframe\">\n",
       "  <thead>\n",
       "    <tr style=\"text-align: right;\">\n",
       "      <th></th>\n",
       "      <th>user_id</th>\n",
       "      <th>month_icam</th>\n",
       "      <th>duration_minutes</th>\n",
       "      <th>no_of_days</th>\n",
       "      <th>residence_description</th>\n",
       "    </tr>\n",
       "  </thead>\n",
       "  <tbody>\n",
       "    <tr>\n",
       "      <th>29</th>\n",
       "      <td>968158</td>\n",
       "      <td>3</td>\n",
       "      <td>405.77</td>\n",
       "      <td>3</td>\n",
       "      <td>NOSWAL HALL</td>\n",
       "    </tr>\n",
       "    <tr>\n",
       "      <th>30</th>\n",
       "      <td>968158</td>\n",
       "      <td>4</td>\n",
       "      <td>269.00</td>\n",
       "      <td>5</td>\n",
       "      <td>NOSWAL HALL</td>\n",
       "    </tr>\n",
       "    <tr>\n",
       "      <th>31</th>\n",
       "      <td>968158</td>\n",
       "      <td>5</td>\n",
       "      <td>2502.63</td>\n",
       "      <td>10</td>\n",
       "      <td>NOSWAL HALL</td>\n",
       "    </tr>\n",
       "    <tr>\n",
       "      <th>32</th>\n",
       "      <td>968158</td>\n",
       "      <td>6</td>\n",
       "      <td>3.08</td>\n",
       "      <td>1</td>\n",
       "      <td>NOSWAL HALL</td>\n",
       "    </tr>\n",
       "    <tr>\n",
       "      <th>33</th>\n",
       "      <td>968158</td>\n",
       "      <td>7</td>\n",
       "      <td>870.75</td>\n",
       "      <td>4</td>\n",
       "      <td>NOSWAL HALL</td>\n",
       "    </tr>\n",
       "  </tbody>\n",
       "</table>\n",
       "</div>"
      ],
      "text/plain": [
       "   user_id  month_icam  duration_minutes  no_of_days residence_description\n",
       "29  968158           3            405.77           3           NOSWAL HALL\n",
       "30  968158           4            269.00           5           NOSWAL HALL\n",
       "31  968158           5           2502.63          10           NOSWAL HALL\n",
       "32  968158           6              3.08           1           NOSWAL HALL\n",
       "33  968158           7            870.75           4           NOSWAL HALL"
      ]
     },
     "execution_count": 74,
     "metadata": {},
     "output_type": "execute_result"
    }
   ],
   "source": [
    "a.head()"
   ]
  },
  {
   "cell_type": "code",
   "execution_count": 53,
   "metadata": {},
   "outputs": [
    {
     "data": {
      "application/vnd.plotly.v1+json": {
       "config": {
        "plotlyServerURL": "https://plot.ly"
       },
       "data": [
        {
         "hoverlabel": {
          "namelength": 0
         },
         "hovertemplate": "<b>%{hovertext}</b><br><br>residence_description=NOSWAL HALL<br>month_icam=%{x}<br>duration_minutes=%{y}",
         "hovertext": [
          "968158",
          "968158",
          "968158",
          "968158",
          "968158"
         ],
         "legendgroup": "residence_description=NOSWAL HALL",
         "line": {
          "color": "#636efa",
          "dash": "solid",
          "shape": "spline"
         },
         "mode": "lines",
         "name": "residence_description=NOSWAL HALL",
         "showlegend": true,
         "type": "scatter",
         "x": [
          3,
          4,
          5,
          6,
          7
         ],
         "xaxis": "x",
         "y": [
          405.77,
          269,
          2502.63,
          3.08,
          870.75
         ],
         "yaxis": "y"
        }
       ],
       "layout": {
        "height": 600,
        "legend": {
         "tracegroupgap": 0
        },
        "margin": {
         "t": 60
        },
        "template": {
         "data": {
          "bar": [
           {
            "error_x": {
             "color": "#2a3f5f"
            },
            "error_y": {
             "color": "#2a3f5f"
            },
            "marker": {
             "line": {
              "color": "#E5ECF6",
              "width": 0.5
             }
            },
            "type": "bar"
           }
          ],
          "barpolar": [
           {
            "marker": {
             "line": {
              "color": "#E5ECF6",
              "width": 0.5
             }
            },
            "type": "barpolar"
           }
          ],
          "carpet": [
           {
            "aaxis": {
             "endlinecolor": "#2a3f5f",
             "gridcolor": "white",
             "linecolor": "white",
             "minorgridcolor": "white",
             "startlinecolor": "#2a3f5f"
            },
            "baxis": {
             "endlinecolor": "#2a3f5f",
             "gridcolor": "white",
             "linecolor": "white",
             "minorgridcolor": "white",
             "startlinecolor": "#2a3f5f"
            },
            "type": "carpet"
           }
          ],
          "choropleth": [
           {
            "colorbar": {
             "outlinewidth": 0,
             "ticks": ""
            },
            "type": "choropleth"
           }
          ],
          "contour": [
           {
            "colorbar": {
             "outlinewidth": 0,
             "ticks": ""
            },
            "colorscale": [
             [
              0,
              "#0d0887"
             ],
             [
              0.1111111111111111,
              "#46039f"
             ],
             [
              0.2222222222222222,
              "#7201a8"
             ],
             [
              0.3333333333333333,
              "#9c179e"
             ],
             [
              0.4444444444444444,
              "#bd3786"
             ],
             [
              0.5555555555555556,
              "#d8576b"
             ],
             [
              0.6666666666666666,
              "#ed7953"
             ],
             [
              0.7777777777777778,
              "#fb9f3a"
             ],
             [
              0.8888888888888888,
              "#fdca26"
             ],
             [
              1,
              "#f0f921"
             ]
            ],
            "type": "contour"
           }
          ],
          "contourcarpet": [
           {
            "colorbar": {
             "outlinewidth": 0,
             "ticks": ""
            },
            "type": "contourcarpet"
           }
          ],
          "heatmap": [
           {
            "colorbar": {
             "outlinewidth": 0,
             "ticks": ""
            },
            "colorscale": [
             [
              0,
              "#0d0887"
             ],
             [
              0.1111111111111111,
              "#46039f"
             ],
             [
              0.2222222222222222,
              "#7201a8"
             ],
             [
              0.3333333333333333,
              "#9c179e"
             ],
             [
              0.4444444444444444,
              "#bd3786"
             ],
             [
              0.5555555555555556,
              "#d8576b"
             ],
             [
              0.6666666666666666,
              "#ed7953"
             ],
             [
              0.7777777777777778,
              "#fb9f3a"
             ],
             [
              0.8888888888888888,
              "#fdca26"
             ],
             [
              1,
              "#f0f921"
             ]
            ],
            "type": "heatmap"
           }
          ],
          "heatmapgl": [
           {
            "colorbar": {
             "outlinewidth": 0,
             "ticks": ""
            },
            "colorscale": [
             [
              0,
              "#0d0887"
             ],
             [
              0.1111111111111111,
              "#46039f"
             ],
             [
              0.2222222222222222,
              "#7201a8"
             ],
             [
              0.3333333333333333,
              "#9c179e"
             ],
             [
              0.4444444444444444,
              "#bd3786"
             ],
             [
              0.5555555555555556,
              "#d8576b"
             ],
             [
              0.6666666666666666,
              "#ed7953"
             ],
             [
              0.7777777777777778,
              "#fb9f3a"
             ],
             [
              0.8888888888888888,
              "#fdca26"
             ],
             [
              1,
              "#f0f921"
             ]
            ],
            "type": "heatmapgl"
           }
          ],
          "histogram": [
           {
            "marker": {
             "colorbar": {
              "outlinewidth": 0,
              "ticks": ""
             }
            },
            "type": "histogram"
           }
          ],
          "histogram2d": [
           {
            "colorbar": {
             "outlinewidth": 0,
             "ticks": ""
            },
            "colorscale": [
             [
              0,
              "#0d0887"
             ],
             [
              0.1111111111111111,
              "#46039f"
             ],
             [
              0.2222222222222222,
              "#7201a8"
             ],
             [
              0.3333333333333333,
              "#9c179e"
             ],
             [
              0.4444444444444444,
              "#bd3786"
             ],
             [
              0.5555555555555556,
              "#d8576b"
             ],
             [
              0.6666666666666666,
              "#ed7953"
             ],
             [
              0.7777777777777778,
              "#fb9f3a"
             ],
             [
              0.8888888888888888,
              "#fdca26"
             ],
             [
              1,
              "#f0f921"
             ]
            ],
            "type": "histogram2d"
           }
          ],
          "histogram2dcontour": [
           {
            "colorbar": {
             "outlinewidth": 0,
             "ticks": ""
            },
            "colorscale": [
             [
              0,
              "#0d0887"
             ],
             [
              0.1111111111111111,
              "#46039f"
             ],
             [
              0.2222222222222222,
              "#7201a8"
             ],
             [
              0.3333333333333333,
              "#9c179e"
             ],
             [
              0.4444444444444444,
              "#bd3786"
             ],
             [
              0.5555555555555556,
              "#d8576b"
             ],
             [
              0.6666666666666666,
              "#ed7953"
             ],
             [
              0.7777777777777778,
              "#fb9f3a"
             ],
             [
              0.8888888888888888,
              "#fdca26"
             ],
             [
              1,
              "#f0f921"
             ]
            ],
            "type": "histogram2dcontour"
           }
          ],
          "mesh3d": [
           {
            "colorbar": {
             "outlinewidth": 0,
             "ticks": ""
            },
            "type": "mesh3d"
           }
          ],
          "parcoords": [
           {
            "line": {
             "colorbar": {
              "outlinewidth": 0,
              "ticks": ""
             }
            },
            "type": "parcoords"
           }
          ],
          "scatter": [
           {
            "marker": {
             "colorbar": {
              "outlinewidth": 0,
              "ticks": ""
             }
            },
            "type": "scatter"
           }
          ],
          "scatter3d": [
           {
            "line": {
             "colorbar": {
              "outlinewidth": 0,
              "ticks": ""
             }
            },
            "marker": {
             "colorbar": {
              "outlinewidth": 0,
              "ticks": ""
             }
            },
            "type": "scatter3d"
           }
          ],
          "scattercarpet": [
           {
            "marker": {
             "colorbar": {
              "outlinewidth": 0,
              "ticks": ""
             }
            },
            "type": "scattercarpet"
           }
          ],
          "scattergeo": [
           {
            "marker": {
             "colorbar": {
              "outlinewidth": 0,
              "ticks": ""
             }
            },
            "type": "scattergeo"
           }
          ],
          "scattergl": [
           {
            "marker": {
             "colorbar": {
              "outlinewidth": 0,
              "ticks": ""
             }
            },
            "type": "scattergl"
           }
          ],
          "scattermapbox": [
           {
            "marker": {
             "colorbar": {
              "outlinewidth": 0,
              "ticks": ""
             }
            },
            "type": "scattermapbox"
           }
          ],
          "scatterpolar": [
           {
            "marker": {
             "colorbar": {
              "outlinewidth": 0,
              "ticks": ""
             }
            },
            "type": "scatterpolar"
           }
          ],
          "scatterpolargl": [
           {
            "marker": {
             "colorbar": {
              "outlinewidth": 0,
              "ticks": ""
             }
            },
            "type": "scatterpolargl"
           }
          ],
          "scatterternary": [
           {
            "marker": {
             "colorbar": {
              "outlinewidth": 0,
              "ticks": ""
             }
            },
            "type": "scatterternary"
           }
          ],
          "surface": [
           {
            "colorbar": {
             "outlinewidth": 0,
             "ticks": ""
            },
            "colorscale": [
             [
              0,
              "#0d0887"
             ],
             [
              0.1111111111111111,
              "#46039f"
             ],
             [
              0.2222222222222222,
              "#7201a8"
             ],
             [
              0.3333333333333333,
              "#9c179e"
             ],
             [
              0.4444444444444444,
              "#bd3786"
             ],
             [
              0.5555555555555556,
              "#d8576b"
             ],
             [
              0.6666666666666666,
              "#ed7953"
             ],
             [
              0.7777777777777778,
              "#fb9f3a"
             ],
             [
              0.8888888888888888,
              "#fdca26"
             ],
             [
              1,
              "#f0f921"
             ]
            ],
            "type": "surface"
           }
          ],
          "table": [
           {
            "cells": {
             "fill": {
              "color": "#EBF0F8"
             },
             "line": {
              "color": "white"
             }
            },
            "header": {
             "fill": {
              "color": "#C8D4E3"
             },
             "line": {
              "color": "white"
             }
            },
            "type": "table"
           }
          ]
         },
         "layout": {
          "annotationdefaults": {
           "arrowcolor": "#2a3f5f",
           "arrowhead": 0,
           "arrowwidth": 1
          },
          "colorscale": {
           "diverging": [
            [
             0,
             "#8e0152"
            ],
            [
             0.1,
             "#c51b7d"
            ],
            [
             0.2,
             "#de77ae"
            ],
            [
             0.3,
             "#f1b6da"
            ],
            [
             0.4,
             "#fde0ef"
            ],
            [
             0.5,
             "#f7f7f7"
            ],
            [
             0.6,
             "#e6f5d0"
            ],
            [
             0.7,
             "#b8e186"
            ],
            [
             0.8,
             "#7fbc41"
            ],
            [
             0.9,
             "#4d9221"
            ],
            [
             1,
             "#276419"
            ]
           ],
           "sequential": [
            [
             0,
             "#0d0887"
            ],
            [
             0.1111111111111111,
             "#46039f"
            ],
            [
             0.2222222222222222,
             "#7201a8"
            ],
            [
             0.3333333333333333,
             "#9c179e"
            ],
            [
             0.4444444444444444,
             "#bd3786"
            ],
            [
             0.5555555555555556,
             "#d8576b"
            ],
            [
             0.6666666666666666,
             "#ed7953"
            ],
            [
             0.7777777777777778,
             "#fb9f3a"
            ],
            [
             0.8888888888888888,
             "#fdca26"
            ],
            [
             1,
             "#f0f921"
            ]
           ],
           "sequentialminus": [
            [
             0,
             "#0d0887"
            ],
            [
             0.1111111111111111,
             "#46039f"
            ],
            [
             0.2222222222222222,
             "#7201a8"
            ],
            [
             0.3333333333333333,
             "#9c179e"
            ],
            [
             0.4444444444444444,
             "#bd3786"
            ],
            [
             0.5555555555555556,
             "#d8576b"
            ],
            [
             0.6666666666666666,
             "#ed7953"
            ],
            [
             0.7777777777777778,
             "#fb9f3a"
            ],
            [
             0.8888888888888888,
             "#fdca26"
            ],
            [
             1,
             "#f0f921"
            ]
           ]
          },
          "colorway": [
           "#636efa",
           "#EF553B",
           "#00cc96",
           "#ab63fa",
           "#FFA15A",
           "#19d3f3",
           "#FF6692",
           "#B6E880",
           "#FF97FF",
           "#FECB52"
          ],
          "font": {
           "color": "#2a3f5f"
          },
          "geo": {
           "bgcolor": "white",
           "lakecolor": "white",
           "landcolor": "#E5ECF6",
           "showlakes": true,
           "showland": true,
           "subunitcolor": "white"
          },
          "hoverlabel": {
           "align": "left"
          },
          "hovermode": "closest",
          "mapbox": {
           "style": "light"
          },
          "paper_bgcolor": "white",
          "plot_bgcolor": "#E5ECF6",
          "polar": {
           "angularaxis": {
            "gridcolor": "white",
            "linecolor": "white",
            "ticks": ""
           },
           "bgcolor": "#E5ECF6",
           "radialaxis": {
            "gridcolor": "white",
            "linecolor": "white",
            "ticks": ""
           }
          },
          "scene": {
           "xaxis": {
            "backgroundcolor": "#E5ECF6",
            "gridcolor": "white",
            "gridwidth": 2,
            "linecolor": "white",
            "showbackground": true,
            "ticks": "",
            "zerolinecolor": "white"
           },
           "yaxis": {
            "backgroundcolor": "#E5ECF6",
            "gridcolor": "white",
            "gridwidth": 2,
            "linecolor": "white",
            "showbackground": true,
            "ticks": "",
            "zerolinecolor": "white"
           },
           "zaxis": {
            "backgroundcolor": "#E5ECF6",
            "gridcolor": "white",
            "gridwidth": 2,
            "linecolor": "white",
            "showbackground": true,
            "ticks": "",
            "zerolinecolor": "white"
           }
          },
          "shapedefaults": {
           "line": {
            "color": "#2a3f5f"
           }
          },
          "ternary": {
           "aaxis": {
            "gridcolor": "white",
            "linecolor": "white",
            "ticks": ""
           },
           "baxis": {
            "gridcolor": "white",
            "linecolor": "white",
            "ticks": ""
           },
           "bgcolor": "#E5ECF6",
           "caxis": {
            "gridcolor": "white",
            "linecolor": "white",
            "ticks": ""
           }
          },
          "title": {
           "x": 0.05
          },
          "xaxis": {
           "automargin": true,
           "gridcolor": "white",
           "linecolor": "white",
           "ticks": "",
           "zerolinecolor": "white",
           "zerolinewidth": 2
          },
          "yaxis": {
           "automargin": true,
           "gridcolor": "white",
           "linecolor": "white",
           "ticks": "",
           "zerolinecolor": "white",
           "zerolinewidth": 2
          }
         }
        },
        "xaxis": {
         "anchor": "y",
         "domain": [
          0,
          0.98
         ],
         "title": {
          "text": "month_icam"
         }
        },
        "yaxis": {
         "anchor": "x",
         "domain": [
          0,
          1
         ],
         "title": {
          "text": "duration_minutes"
         }
        }
       }
      },
      "text/html": [
       "<div>\n",
       "        \n",
       "        \n",
       "            <div id=\"d84efabb-c87d-47a3-8799-c6cac38e3255\" class=\"plotly-graph-div\" style=\"height:600px; width:100%;\"></div>\n",
       "            <script type=\"text/javascript\">\n",
       "                require([\"plotly\"], function(Plotly) {\n",
       "                    window.PLOTLYENV=window.PLOTLYENV || {};\n",
       "                    \n",
       "                if (document.getElementById(\"d84efabb-c87d-47a3-8799-c6cac38e3255\")) {\n",
       "                    Plotly.newPlot(\n",
       "                        'd84efabb-c87d-47a3-8799-c6cac38e3255',\n",
       "                        [{\"hoverlabel\": {\"namelength\": 0}, \"hovertemplate\": \"<b>%{hovertext}</b><br><br>residence_description=NOSWAL HALL<br>month_icam=%{x}<br>duration_minutes=%{y}\", \"hovertext\": [\"968158\", \"968158\", \"968158\", \"968158\", \"968158\"], \"legendgroup\": \"residence_description=NOSWAL HALL\", \"line\": {\"color\": \"#636efa\", \"dash\": \"solid\", \"shape\": \"spline\"}, \"mode\": \"lines\", \"name\": \"residence_description=NOSWAL HALL\", \"showlegend\": true, \"type\": \"scatter\", \"x\": [3, 4, 5, 6, 7], \"xaxis\": \"x\", \"y\": [405.77, 269.0, 2502.63, 3.08, 870.75], \"yaxis\": \"y\"}],\n",
       "                        {\"height\": 600, \"legend\": {\"tracegroupgap\": 0}, \"margin\": {\"t\": 60}, \"template\": {\"data\": {\"bar\": [{\"error_x\": {\"color\": \"#2a3f5f\"}, \"error_y\": {\"color\": \"#2a3f5f\"}, \"marker\": {\"line\": {\"color\": \"#E5ECF6\", \"width\": 0.5}}, \"type\": \"bar\"}], \"barpolar\": [{\"marker\": {\"line\": {\"color\": \"#E5ECF6\", \"width\": 0.5}}, \"type\": \"barpolar\"}], \"carpet\": [{\"aaxis\": {\"endlinecolor\": \"#2a3f5f\", \"gridcolor\": \"white\", \"linecolor\": \"white\", \"minorgridcolor\": \"white\", \"startlinecolor\": \"#2a3f5f\"}, \"baxis\": {\"endlinecolor\": \"#2a3f5f\", \"gridcolor\": \"white\", \"linecolor\": \"white\", \"minorgridcolor\": \"white\", \"startlinecolor\": \"#2a3f5f\"}, \"type\": \"carpet\"}], \"choropleth\": [{\"colorbar\": {\"outlinewidth\": 0, \"ticks\": \"\"}, \"type\": \"choropleth\"}], \"contour\": [{\"colorbar\": {\"outlinewidth\": 0, \"ticks\": \"\"}, \"colorscale\": [[0.0, \"#0d0887\"], [0.1111111111111111, \"#46039f\"], [0.2222222222222222, \"#7201a8\"], [0.3333333333333333, \"#9c179e\"], [0.4444444444444444, \"#bd3786\"], [0.5555555555555556, \"#d8576b\"], [0.6666666666666666, \"#ed7953\"], [0.7777777777777778, \"#fb9f3a\"], [0.8888888888888888, \"#fdca26\"], [1.0, \"#f0f921\"]], \"type\": \"contour\"}], \"contourcarpet\": [{\"colorbar\": {\"outlinewidth\": 0, \"ticks\": \"\"}, \"type\": \"contourcarpet\"}], \"heatmap\": [{\"colorbar\": {\"outlinewidth\": 0, \"ticks\": \"\"}, \"colorscale\": [[0.0, \"#0d0887\"], [0.1111111111111111, \"#46039f\"], [0.2222222222222222, \"#7201a8\"], [0.3333333333333333, \"#9c179e\"], [0.4444444444444444, \"#bd3786\"], [0.5555555555555556, \"#d8576b\"], [0.6666666666666666, \"#ed7953\"], [0.7777777777777778, \"#fb9f3a\"], [0.8888888888888888, \"#fdca26\"], [1.0, \"#f0f921\"]], \"type\": \"heatmap\"}], \"heatmapgl\": [{\"colorbar\": {\"outlinewidth\": 0, \"ticks\": \"\"}, \"colorscale\": [[0.0, \"#0d0887\"], [0.1111111111111111, \"#46039f\"], [0.2222222222222222, \"#7201a8\"], [0.3333333333333333, \"#9c179e\"], [0.4444444444444444, \"#bd3786\"], [0.5555555555555556, \"#d8576b\"], [0.6666666666666666, \"#ed7953\"], [0.7777777777777778, \"#fb9f3a\"], [0.8888888888888888, \"#fdca26\"], [1.0, \"#f0f921\"]], \"type\": \"heatmapgl\"}], \"histogram\": [{\"marker\": {\"colorbar\": {\"outlinewidth\": 0, \"ticks\": \"\"}}, \"type\": \"histogram\"}], \"histogram2d\": [{\"colorbar\": {\"outlinewidth\": 0, \"ticks\": \"\"}, \"colorscale\": [[0.0, \"#0d0887\"], [0.1111111111111111, \"#46039f\"], [0.2222222222222222, \"#7201a8\"], [0.3333333333333333, \"#9c179e\"], [0.4444444444444444, \"#bd3786\"], [0.5555555555555556, \"#d8576b\"], [0.6666666666666666, \"#ed7953\"], [0.7777777777777778, \"#fb9f3a\"], [0.8888888888888888, \"#fdca26\"], [1.0, \"#f0f921\"]], \"type\": \"histogram2d\"}], \"histogram2dcontour\": [{\"colorbar\": {\"outlinewidth\": 0, \"ticks\": \"\"}, \"colorscale\": [[0.0, \"#0d0887\"], [0.1111111111111111, \"#46039f\"], [0.2222222222222222, \"#7201a8\"], [0.3333333333333333, \"#9c179e\"], [0.4444444444444444, \"#bd3786\"], [0.5555555555555556, \"#d8576b\"], [0.6666666666666666, \"#ed7953\"], [0.7777777777777778, \"#fb9f3a\"], [0.8888888888888888, \"#fdca26\"], [1.0, \"#f0f921\"]], \"type\": \"histogram2dcontour\"}], \"mesh3d\": [{\"colorbar\": {\"outlinewidth\": 0, \"ticks\": \"\"}, \"type\": \"mesh3d\"}], \"parcoords\": [{\"line\": {\"colorbar\": {\"outlinewidth\": 0, \"ticks\": \"\"}}, \"type\": \"parcoords\"}], \"scatter\": [{\"marker\": {\"colorbar\": {\"outlinewidth\": 0, \"ticks\": \"\"}}, \"type\": \"scatter\"}], \"scatter3d\": [{\"line\": {\"colorbar\": {\"outlinewidth\": 0, \"ticks\": \"\"}}, \"marker\": {\"colorbar\": {\"outlinewidth\": 0, \"ticks\": \"\"}}, \"type\": \"scatter3d\"}], \"scattercarpet\": [{\"marker\": {\"colorbar\": {\"outlinewidth\": 0, \"ticks\": \"\"}}, \"type\": \"scattercarpet\"}], \"scattergeo\": [{\"marker\": {\"colorbar\": {\"outlinewidth\": 0, \"ticks\": \"\"}}, \"type\": \"scattergeo\"}], \"scattergl\": [{\"marker\": {\"colorbar\": {\"outlinewidth\": 0, \"ticks\": \"\"}}, \"type\": \"scattergl\"}], \"scattermapbox\": [{\"marker\": {\"colorbar\": {\"outlinewidth\": 0, \"ticks\": \"\"}}, \"type\": \"scattermapbox\"}], \"scatterpolar\": [{\"marker\": {\"colorbar\": {\"outlinewidth\": 0, \"ticks\": \"\"}}, \"type\": \"scatterpolar\"}], \"scatterpolargl\": [{\"marker\": {\"colorbar\": {\"outlinewidth\": 0, \"ticks\": \"\"}}, \"type\": \"scatterpolargl\"}], \"scatterternary\": [{\"marker\": {\"colorbar\": {\"outlinewidth\": 0, \"ticks\": \"\"}}, \"type\": \"scatterternary\"}], \"surface\": [{\"colorbar\": {\"outlinewidth\": 0, \"ticks\": \"\"}, \"colorscale\": [[0.0, \"#0d0887\"], [0.1111111111111111, \"#46039f\"], [0.2222222222222222, \"#7201a8\"], [0.3333333333333333, \"#9c179e\"], [0.4444444444444444, \"#bd3786\"], [0.5555555555555556, \"#d8576b\"], [0.6666666666666666, \"#ed7953\"], [0.7777777777777778, \"#fb9f3a\"], [0.8888888888888888, \"#fdca26\"], [1.0, \"#f0f921\"]], \"type\": \"surface\"}], \"table\": [{\"cells\": {\"fill\": {\"color\": \"#EBF0F8\"}, \"line\": {\"color\": \"white\"}}, \"header\": {\"fill\": {\"color\": \"#C8D4E3\"}, \"line\": {\"color\": \"white\"}}, \"type\": \"table\"}]}, \"layout\": {\"annotationdefaults\": {\"arrowcolor\": \"#2a3f5f\", \"arrowhead\": 0, \"arrowwidth\": 1}, \"colorscale\": {\"diverging\": [[0, \"#8e0152\"], [0.1, \"#c51b7d\"], [0.2, \"#de77ae\"], [0.3, \"#f1b6da\"], [0.4, \"#fde0ef\"], [0.5, \"#f7f7f7\"], [0.6, \"#e6f5d0\"], [0.7, \"#b8e186\"], [0.8, \"#7fbc41\"], [0.9, \"#4d9221\"], [1, \"#276419\"]], \"sequential\": [[0.0, \"#0d0887\"], [0.1111111111111111, \"#46039f\"], [0.2222222222222222, \"#7201a8\"], [0.3333333333333333, \"#9c179e\"], [0.4444444444444444, \"#bd3786\"], [0.5555555555555556, \"#d8576b\"], [0.6666666666666666, \"#ed7953\"], [0.7777777777777778, \"#fb9f3a\"], [0.8888888888888888, \"#fdca26\"], [1.0, \"#f0f921\"]], \"sequentialminus\": [[0.0, \"#0d0887\"], [0.1111111111111111, \"#46039f\"], [0.2222222222222222, \"#7201a8\"], [0.3333333333333333, \"#9c179e\"], [0.4444444444444444, \"#bd3786\"], [0.5555555555555556, \"#d8576b\"], [0.6666666666666666, \"#ed7953\"], [0.7777777777777778, \"#fb9f3a\"], [0.8888888888888888, \"#fdca26\"], [1.0, \"#f0f921\"]]}, \"colorway\": [\"#636efa\", \"#EF553B\", \"#00cc96\", \"#ab63fa\", \"#FFA15A\", \"#19d3f3\", \"#FF6692\", \"#B6E880\", \"#FF97FF\", \"#FECB52\"], \"font\": {\"color\": \"#2a3f5f\"}, \"geo\": {\"bgcolor\": \"white\", \"lakecolor\": \"white\", \"landcolor\": \"#E5ECF6\", \"showlakes\": true, \"showland\": true, \"subunitcolor\": \"white\"}, \"hoverlabel\": {\"align\": \"left\"}, \"hovermode\": \"closest\", \"mapbox\": {\"style\": \"light\"}, \"paper_bgcolor\": \"white\", \"plot_bgcolor\": \"#E5ECF6\", \"polar\": {\"angularaxis\": {\"gridcolor\": \"white\", \"linecolor\": \"white\", \"ticks\": \"\"}, \"bgcolor\": \"#E5ECF6\", \"radialaxis\": {\"gridcolor\": \"white\", \"linecolor\": \"white\", \"ticks\": \"\"}}, \"scene\": {\"xaxis\": {\"backgroundcolor\": \"#E5ECF6\", \"gridcolor\": \"white\", \"gridwidth\": 2, \"linecolor\": \"white\", \"showbackground\": true, \"ticks\": \"\", \"zerolinecolor\": \"white\"}, \"yaxis\": {\"backgroundcolor\": \"#E5ECF6\", \"gridcolor\": \"white\", \"gridwidth\": 2, \"linecolor\": \"white\", \"showbackground\": true, \"ticks\": \"\", \"zerolinecolor\": \"white\"}, \"zaxis\": {\"backgroundcolor\": \"#E5ECF6\", \"gridcolor\": \"white\", \"gridwidth\": 2, \"linecolor\": \"white\", \"showbackground\": true, \"ticks\": \"\", \"zerolinecolor\": \"white\"}}, \"shapedefaults\": {\"line\": {\"color\": \"#2a3f5f\"}}, \"ternary\": {\"aaxis\": {\"gridcolor\": \"white\", \"linecolor\": \"white\", \"ticks\": \"\"}, \"baxis\": {\"gridcolor\": \"white\", \"linecolor\": \"white\", \"ticks\": \"\"}, \"bgcolor\": \"#E5ECF6\", \"caxis\": {\"gridcolor\": \"white\", \"linecolor\": \"white\", \"ticks\": \"\"}}, \"title\": {\"x\": 0.05}, \"xaxis\": {\"automargin\": true, \"gridcolor\": \"white\", \"linecolor\": \"white\", \"ticks\": \"\", \"zerolinecolor\": \"white\", \"zerolinewidth\": 2}, \"yaxis\": {\"automargin\": true, \"gridcolor\": \"white\", \"linecolor\": \"white\", \"ticks\": \"\", \"zerolinecolor\": \"white\", \"zerolinewidth\": 2}}}, \"xaxis\": {\"anchor\": \"y\", \"domain\": [0.0, 0.98], \"title\": {\"text\": \"month_icam\"}}, \"yaxis\": {\"anchor\": \"x\", \"domain\": [0.0, 1.0], \"title\": {\"text\": \"duration_minutes\"}}},\n",
       "                        {\"responsive\": true}\n",
       "                    ).then(function(){\n",
       "                            \n",
       "var gd = document.getElementById('d84efabb-c87d-47a3-8799-c6cac38e3255');\n",
       "var x = new MutationObserver(function (mutations, observer) {{\n",
       "        var display = window.getComputedStyle(gd).display;\n",
       "        if (!display || display === 'none') {{\n",
       "            console.log([gd, 'removed!']);\n",
       "            Plotly.purge(gd);\n",
       "            observer.disconnect();\n",
       "        }}\n",
       "}});\n",
       "\n",
       "// Listen for the removal of the full notebook cells\n",
       "var notebookContainer = gd.closest('#notebook-container');\n",
       "if (notebookContainer) {{\n",
       "    x.observe(notebookContainer, {childList: true});\n",
       "}}\n",
       "\n",
       "// Listen for the clearing of the current output cell\n",
       "var outputEl = gd.closest('.output');\n",
       "if (outputEl) {{\n",
       "    x.observe(outputEl, {childList: true});\n",
       "}}\n",
       "\n",
       "                        })\n",
       "                };\n",
       "                });\n",
       "            </script>\n",
       "        </div>"
      ]
     },
     "metadata": {},
     "output_type": "display_data"
    }
   ],
   "source": [
    "import plotly.express as px\n",
    "fig = px.line(data_frame = a.head(), x=\"month_icam\", y=\"duration_minutes\", color=\"residence_description\", \n",
    "            line_group=None, hover_name='user_id',\n",
    "            line_shape=\"spline\", render_mode=\"svg\")\n",
    "fig.show()"
   ]
  },
  {
   "cell_type": "code",
   "execution_count": 156,
   "metadata": {},
   "outputs": [],
   "source": [
    "def pivotDurationUnit():\n",
    "    userIds = swipesmonthLab1702years['user_id'].unique() \n",
    "    \n",
    "    unitTitles =  swipesmonthLab1702years['unit_title'].unique()    \n",
    "    cols =[]\n",
    "    for i in userIds:\n",
    "        user = swipesmonthLab1702years[swipesmonthLab1702years['user_id'] == i]\n",
    "        subjectMark = user.loc[:,['unit_title','unit_latest_mark']].values\n",
    "        residence = user['residence_code'].unique()[0]\n",
    "        subjectMark = np.insert(subjectMark, 0,['Residence',residence], axis = 0)\n",
    "        duration = user['duration_minutes'].unique().sum()\n",
    "        subjectMark = np.insert(subjectMark, 0,['Duration',duration], axis = 0)\n",
    "        # insert user ids \n",
    "        subjectMark = np.insert(subjectMark, 0,['user_id',i], axis = 0)\n",
    "\n",
    "        subjectMark = dict(subjectMark)\n",
    "        \n",
    "        cols.append(subjectMark)\n",
    "        \n",
    "    return userIds, unitTitles, cols \n",
    "    "
   ]
  },
  {
   "cell_type": "code",
   "execution_count": 157,
   "metadata": {},
   "outputs": [],
   "source": [
    "swipesmonthLab1702yearsMath3 = pivotDurationUnit()"
   ]
  },
  {
   "cell_type": "code",
   "execution_count": 158,
   "metadata": {},
   "outputs": [
    {
     "data": {
      "text/plain": [
       "[{'user_id': '870702',\n",
       "  'Duration': 7282.379999999999,\n",
       "  'Residence': 'JCT',\n",
       "  'Group Theory III': 45.0,\n",
       "  'Leontief Systems III': 61.0},\n",
       " {'user_id': '795009',\n",
       "  'Duration': 1188.6,\n",
       "  'Residence': 'Not In Residence',\n",
       "  'Number Theory III': 55.0,\n",
       "  'Coding and Cryptography III': 72.0,\n",
       "  'Complex Analysis III': 60.0,\n",
       "  'Group Theory III': 46.0,\n",
       "  'Real Analysis III': 26.0,\n",
       "  'Leontief Systems III': 50.0},\n",
       " {'user_id': '1425583',\n",
       "  'Duration': 5733.33,\n",
       "  'Residence': 'Not In Residence',\n",
       "  'Number Theory III': 78.0,\n",
       "  'Coding and Cryptography III': 63.0,\n",
       "  'Leontief Systems III': 60.0},\n",
       " {'user_id': '835527',\n",
       "  'Duration': 2429.2799999999997,\n",
       "  'Residence': 'REN',\n",
       "  'Number Theory III': 61.0,\n",
       "  'Coding and Cryptography III': 76.0,\n",
       "  'Complex Analysis III': 80.0,\n",
       "  'Group Theory III': 61.0,\n",
       "  'Real Analysis III': 44.0,\n",
       "  'Leontief Systems III': 65.0},\n",
       " {'user_id': '1126582',\n",
       "  'Duration': 18092.29,\n",
       "  'Residence': 'REI',\n",
       "  'Number Theory III': 78.0,\n",
       "  'Coding and Cryptography III': 80.0,\n",
       "  'Complex Analysis III': 80.0,\n",
       "  'Group Theory III': 78.0,\n",
       "  'Real Analysis III': 55.0,\n",
       "  'Leontief Systems III': 70.0},\n",
       " {'user_id': '805616',\n",
       "  'Duration': 1259.59,\n",
       "  'Residence': 'JCT',\n",
       "  'Number Theory III': 53.0,\n",
       "  'Complex Analysis III': 41.0,\n",
       "  'Group Theory III': 67.0,\n",
       "  'Rings and Fields III': 33.0,\n",
       "  'Differential Geometry III': 23.0,\n",
       "  'Real Analysis III': 41.0},\n",
       " {'user_id': '1084380',\n",
       "  'Duration': 14839.630000000001,\n",
       "  'Residence': 'Not In Residence',\n",
       "  'Number Theory III': 64.0,\n",
       "  'Coding and Cryptography III': 80.0,\n",
       "  'Complex Analysis III': 80.0,\n",
       "  'Group Theory III': 76.0,\n",
       "  'Real Analysis III': 41.0,\n",
       "  'Leontief Systems III': 75.0},\n",
       " {'user_id': '1174093',\n",
       "  'Duration': 4128.33,\n",
       "  'Residence': 'BAR',\n",
       "  'Coding and Cryptography III': 61.0,\n",
       "  'Complex Analysis III': 66.0,\n",
       "  'Group Theory III': 53.0,\n",
       "  'Leontief Systems III': 54.0},\n",
       " {'user_id': '867062',\n",
       "  'Duration': 30574.08,\n",
       "  'Residence': 'REN',\n",
       "  'Number Theory III': 61.0,\n",
       "  'Complex Analysis III': 73.0,\n",
       "  'Group Theory III': 72.0,\n",
       "  'Rings and Fields III': 45.0,\n",
       "  'Real Analysis III': 55.0,\n",
       "  'Leontief Systems III': 64.0,\n",
       "  'Coding and Cryptography III': 72.0},\n",
       " {'user_id': '1038238',\n",
       "  'Duration': 999.1500000000001,\n",
       "  'Residence': 'Not In Residence',\n",
       "  'Coding and Cryptography III': 77.0},\n",
       " {'user_id': '1439530',\n",
       "  'Duration': 7344.110000000001,\n",
       "  'Residence': 'Not In Residence',\n",
       "  'Complex Analysis III': 68.0,\n",
       "  'Group Theory III': 70.0,\n",
       "  'Rings and Fields III': 70.0,\n",
       "  'Topology III': 73.0,\n",
       "  'Differential Geometry III': 70.0,\n",
       "  'Real Analysis III': 56.0},\n",
       " {'user_id': '1277071',\n",
       "  'Duration': 307.43,\n",
       "  'Residence': 'Not In Residence',\n",
       "  'Number Theory III': 62.0,\n",
       "  'Coding and Cryptography III': 72.0,\n",
       "  'Complex Analysis III': 42.0,\n",
       "  'Group Theory III': 75.0,\n",
       "  'Real Analysis III': 39.0,\n",
       "  'Leontief Systems III': 50.0},\n",
       " {'user_id': '813425',\n",
       "  'Duration': 609.48,\n",
       "  'Residence': 'Not In Residence',\n",
       "  'Complex Analysis III': 65.0,\n",
       "  'Real Analysis III': 44.0,\n",
       "  'Number Theory III': 50.0,\n",
       "  'Coding and Cryptography III': 52.0,\n",
       "  'Group Theory III': 26.0,\n",
       "  'Leontief Systems III': 41.0},\n",
       " {'user_id': '1078410',\n",
       "  'Duration': 21937.739999999998,\n",
       "  'Residence': 'DWH',\n",
       "  'Number Theory III': 67.0,\n",
       "  'Coding and Cryptography III': 51.0,\n",
       "  'Complex Analysis III': 61.0,\n",
       "  'Group Theory III': 0.0,\n",
       "  'Real Analysis III': 40.0,\n",
       "  'Leontief Systems III': 51.0},\n",
       " {'user_id': '732595',\n",
       "  'Duration': 2768.6499999999996,\n",
       "  'Residence': 'Not In Residence',\n",
       "  'Topology III': 54.0,\n",
       "  'Differential Geometry III': 0.0,\n",
       "  'Number Theory III': 56.0},\n",
       " {'user_id': '890981',\n",
       "  'Duration': 546.0999999999999,\n",
       "  'Residence': 'Not In Residence',\n",
       "  'Number Theory III': 39.0,\n",
       "  'Coding and Cryptography III': 46.0,\n",
       "  'Complex Analysis III': 46.0,\n",
       "  'Group Theory III': 31.0,\n",
       "  'Real Analysis III': 0.0,\n",
       "  'Leontief Systems III': 29.0},\n",
       " {'user_id': '811597',\n",
       "  'Duration': 15559.64,\n",
       "  'Residence': 'Not In Residence',\n",
       "  'Number Theory III': 75.0,\n",
       "  'Coding and Cryptography III': 46.0,\n",
       "  'Leontief Systems III': 43.0},\n",
       " {'user_id': '719721',\n",
       "  'Duration': 73.55,\n",
       "  'Residence': 'EOS',\n",
       "  'Number Theory III': 63.0,\n",
       "  'Coding and Cryptography III': 58.0,\n",
       "  'Complex Analysis III': 53.0,\n",
       "  'Group Theory III': 38.0,\n",
       "  'Real Analysis III': 30.0,\n",
       "  'Leontief Systems III': 50.0},\n",
       " {'user_id': '1149483',\n",
       "  'Duration': 1038.14,\n",
       "  'Residence': 'Not In Residence',\n",
       "  'Number Theory III': 73.0,\n",
       "  'Coding and Cryptography III': 64.0,\n",
       "  'Complex Analysis III': 75.0,\n",
       "  'Group Theory III': 63.0,\n",
       "  'Real Analysis III': 43.0,\n",
       "  'Leontief Systems III': 66.0},\n",
       " {'user_id': '1415624',\n",
       "  'Duration': 2952.8,\n",
       "  'Residence': 'Not In Residence',\n",
       "  'Coding and Cryptography III': 92.0,\n",
       "  'Complex Analysis III': 82.0,\n",
       "  'Group Theory III': 90.0,\n",
       "  'Topology III': 82.0,\n",
       "  'Real Analysis III': 51.0,\n",
       "  'Leontief Systems III': 67.0},\n",
       " {'user_id': '854677',\n",
       "  'Duration': 1670.0900000000001,\n",
       "  'Residence': 'Not In Residence',\n",
       "  'Complex Analysis III': 76.0,\n",
       "  'Group Theory III': 66.0,\n",
       "  'Rings and Fields III': 66.0,\n",
       "  'Topology III': 76.0,\n",
       "  'Differential Geometry III': 80.0,\n",
       "  'Real Analysis III': 63.0},\n",
       " {'user_id': '1284606',\n",
       "  'Duration': 37.300000000000004,\n",
       "  'Residence': 'Not In Residence',\n",
       "  'Number Theory III': 63.0,\n",
       "  'Coding and Cryptography III': 73.0,\n",
       "  'Complex Analysis III': 80.0,\n",
       "  'Group Theory III': 40.0,\n",
       "  'Real Analysis III': 55.0,\n",
       "  'Leontief Systems III': 70.0},\n",
       " {'user_id': '886515',\n",
       "  'Duration': 33.48,\n",
       "  'Residence': 'Not In Residence',\n",
       "  'Number Theory III': 73.0,\n",
       "  'Coding and Cryptography III': 86.0,\n",
       "  'Complex Analysis III': 73.0,\n",
       "  'Group Theory III': 84.0,\n",
       "  'Real Analysis III': 58.0,\n",
       "  'Leontief Systems III': 56.0},\n",
       " {'user_id': '867109',\n",
       "  'Duration': 536.85,\n",
       "  'Residence': 'Not In Residence',\n",
       "  'Number Theory III': 77.0,\n",
       "  'Coding and Cryptography III': 70.0,\n",
       "  'Complex Analysis III': 50.0,\n",
       "  'Group Theory III': 56.0,\n",
       "  'Real Analysis III': 36.0,\n",
       "  'Leontief Systems III': 53.0},\n",
       " {'user_id': '1121743',\n",
       "  'Duration': 17000.78,\n",
       "  'Residence': 'REI',\n",
       "  'Number Theory III': 75.0,\n",
       "  'Coding and Cryptography III': 65.0,\n",
       "  'Complex Analysis III': 72.0,\n",
       "  'Group Theory III': 62.0,\n",
       "  'Real Analysis III': 51.0,\n",
       "  'Leontief Systems III': 60.0},\n",
       " {'user_id': '1434853',\n",
       "  'Duration': 501.93,\n",
       "  'Residence': 'Not In Residence',\n",
       "  'Coding and Cryptography III': 64.0,\n",
       "  'Leontief Systems III': 42.0},\n",
       " {'user_id': '815108',\n",
       "  'Duration': 200.26,\n",
       "  'Residence': 'MHR',\n",
       "  'Coding and Cryptography III': 50.0,\n",
       "  'Leontief Systems III': 38.0},\n",
       " {'user_id': '1429980',\n",
       "  'Duration': 1168.37,\n",
       "  'Residence': 'Not In Residence',\n",
       "  'Number Theory III': 80.0,\n",
       "  'Coding and Cryptography III': 60.0,\n",
       "  'Complex Analysis III': 47.0,\n",
       "  'Group Theory III': 71.0,\n",
       "  'Real Analysis III': 50.0,\n",
       "  'Leontief Systems III': 50.0},\n",
       " {'user_id': '1312548',\n",
       "  'Duration': 44.02,\n",
       "  'Residence': 'Not In Residence',\n",
       "  'Number Theory III': 70.0,\n",
       "  'Coding and Cryptography III': 70.0,\n",
       "  'Group Theory III': 66.0},\n",
       " {'user_id': '683937',\n",
       "  'Duration': 104.35,\n",
       "  'Residence': 'Not In Residence',\n",
       "  'Number Theory III': 80.0,\n",
       "  'Coding and Cryptography III': 73.0,\n",
       "  'Complex Analysis III': 63.0,\n",
       "  'Group Theory III': 65.0,\n",
       "  'Real Analysis III': 61.0,\n",
       "  'Leontief Systems III': 50.0},\n",
       " {'user_id': '1036232',\n",
       "  'Duration': 5142.0,\n",
       "  'Residence': 'JCT',\n",
       "  'Number Theory III': 88.0,\n",
       "  'Coding and Cryptography III': 50.0,\n",
       "  'Complex Analysis III': 57.0,\n",
       "  'Group Theory III': 52.0,\n",
       "  'Real Analysis III': 50.0,\n",
       "  'Leontief Systems III': 55.0},\n",
       " {'user_id': '1041928',\n",
       "  'Duration': 1220.1599999999999,\n",
       "  'Residence': 'Not In Residence',\n",
       "  'Number Theory III': 94.0,\n",
       "  'Coding and Cryptography III': 94.0,\n",
       "  'Complex Analysis III': 70.0,\n",
       "  'Group Theory III': 70.0,\n",
       "  'Real Analysis III': 35.0,\n",
       "  'Leontief Systems III': 82.0},\n",
       " {'user_id': '1042582',\n",
       "  'Duration': 1428.47,\n",
       "  'Residence': 'Not In Residence',\n",
       "  'Number Theory III': 50.0,\n",
       "  'Coding and Cryptography III': 62.0,\n",
       "  'Complex Analysis III': 56.0,\n",
       "  'Group Theory III': 66.0,\n",
       "  'Differential Geometry III': 64.0,\n",
       "  'Real Analysis III': 50.0,\n",
       "  'Rings and Fields III': 60.0,\n",
       "  'Topology III': 52.0,\n",
       "  'Leontief Systems III': 64.0},\n",
       " {'user_id': '1042627',\n",
       "  'Duration': 7426.3,\n",
       "  'Residence': 'KNK',\n",
       "  'Number Theory III': 80.0,\n",
       "  'Coding and Cryptography III': 73.0,\n",
       "  'Complex Analysis III': 80.0,\n",
       "  'Group Theory III': 60.0,\n",
       "  'Real Analysis III': 58.0,\n",
       "  'Leontief Systems III': 61.0},\n",
       " {'user_id': '1043377',\n",
       "  'Duration': 37388.0,\n",
       "  'Residence': 'BAR',\n",
       "  'Number Theory III': 61.0,\n",
       "  'Coding and Cryptography III': 75.0,\n",
       "  'Complex Analysis III': 70.0,\n",
       "  'Group Theory III': 58.0,\n",
       "  'Real Analysis III': 50.0,\n",
       "  'Leontief Systems III': 62.0},\n",
       " {'user_id': '1043480',\n",
       "  'Duration': 1892.04,\n",
       "  'Residence': 'DWH',\n",
       "  'Number Theory III': 80.0,\n",
       "  'Coding and Cryptography III': 75.0,\n",
       "  'Complex Analysis III': 67.0,\n",
       "  'Group Theory III': 57.0,\n",
       "  'Real Analysis III': 53.0,\n",
       "  'Leontief Systems III': 66.0},\n",
       " {'user_id': '1017852',\n",
       "  'Duration': 93.64,\n",
       "  'Residence': 'DWH',\n",
       "  'Number Theory III': 61.0,\n",
       "  'Coding and Cryptography III': 57.0},\n",
       " {'user_id': '1053903',\n",
       "  'Duration': 666.17,\n",
       "  'Residence': 'KNK',\n",
       "  'Number Theory III': 71.0,\n",
       "  'Coding and Cryptography III': 36.0,\n",
       "  'Complex Analysis III': 33.0,\n",
       "  'Group Theory III': 57.0,\n",
       "  'Real Analysis III': 44.0,\n",
       "  'Leontief Systems III': 50.0},\n",
       " {'user_id': '1022178',\n",
       "  'Duration': 2958.1800000000003,\n",
       "  'Residence': 'Not In Residence',\n",
       "  'Complex Analysis III': 75.0,\n",
       "  'Group Theory III': 66.0,\n",
       "  'Rings and Fields III': 58.0,\n",
       "  'Topology III': 64.0,\n",
       "  'Differential Geometry III': 73.0,\n",
       "  'Real Analysis III': 50.0},\n",
       " {'user_id': '1032917',\n",
       "  'Duration': 4380.179999999999,\n",
       "  'Residence': 'Not In Residence',\n",
       "  'Complex Analysis III': 76.0,\n",
       "  'Group Theory III': 88.0,\n",
       "  'Rings and Fields III': 81.0,\n",
       "  'Topology III': 76.0,\n",
       "  'Differential Geometry III': 72.0,\n",
       "  'Real Analysis III': 56.0},\n",
       " {'user_id': '1065187',\n",
       "  'Duration': 5727.4,\n",
       "  'Residence': 'MHR',\n",
       "  'Number Theory III': 84.0,\n",
       "  'Coding and Cryptography III': 87.0,\n",
       "  'Complex Analysis III': 60.0,\n",
       "  'Group Theory III': 62.0,\n",
       "  'Real Analysis III': 53.0,\n",
       "  'Leontief Systems III': 70.0},\n",
       " {'user_id': '1075587',\n",
       "  'Duration': 392.34000000000003,\n",
       "  'Residence': 'BRC',\n",
       "  'Number Theory III': 76.0,\n",
       "  'Coding and Cryptography III': 66.0,\n",
       "  'Complex Analysis III': 64.0,\n",
       "  'Group Theory III': 56.0,\n",
       "  'Real Analysis III': 42.0,\n",
       "  'Leontief Systems III': 50.0},\n",
       " {'user_id': '1056152',\n",
       "  'Duration': 3041.5299999999993,\n",
       "  'Residence': 'Not In Residence',\n",
       "  'Number Theory III': 64.0,\n",
       "  'Coding and Cryptography III': 61.0,\n",
       "  'Complex Analysis III': 73.0,\n",
       "  'Group Theory III': 50.0,\n",
       "  'Real Analysis III': 32.0,\n",
       "  'Leontief Systems III': 51.0},\n",
       " {'user_id': '1057209',\n",
       "  'Duration': 2769.4300000000003,\n",
       "  'Residence': 'Not In Residence',\n",
       "  'Number Theory III': 62.0,\n",
       "  'Coding and Cryptography III': 83.0,\n",
       "  'Complex Analysis III': 82.0,\n",
       "  'Group Theory III': 39.0,\n",
       "  'Differential Geometry III': 50.0,\n",
       "  'Real Analysis III': 35.0},\n",
       " {'user_id': '1058066',\n",
       "  'Duration': 181.23,\n",
       "  'Residence': 'Not In Residence',\n",
       "  'Complex Analysis III': 75.0,\n",
       "  'Group Theory III': 51.0,\n",
       "  'Rings and Fields III': 98.0,\n",
       "  'Topology III': 76.0,\n",
       "  'Differential Geometry III': 53.0,\n",
       "  'Real Analysis III': 36.0},\n",
       " {'user_id': '1073695',\n",
       "  'Duration': 2030.93,\n",
       "  'Residence': 'Not In Residence',\n",
       "  'Number Theory III': 54.0,\n",
       "  'Coding and Cryptography III': 76.0,\n",
       "  'Group Theory III': 61.0},\n",
       " {'user_id': '1075502',\n",
       "  'Duration': 1460.8600000000001,\n",
       "  'Residence': 'KNK',\n",
       "  'Number Theory III': 54.0,\n",
       "  'Coding and Cryptography III': 38.0,\n",
       "  'Complex Analysis III': 41.0,\n",
       "  'Group Theory III': 43.0,\n",
       "  'Real Analysis III': 28.0,\n",
       "  'Leontief Systems III': 0.0},\n",
       " {'user_id': '1100162',\n",
       "  'Duration': 229.68,\n",
       "  'Residence': 'BAR',\n",
       "  'Number Theory III': 63.0,\n",
       "  'Coding and Cryptography III': 36.0,\n",
       "  'Complex Analysis III': 31.0,\n",
       "  'Group Theory III': 42.0,\n",
       "  'Real Analysis III': 31.0,\n",
       "  'Leontief Systems III': 42.0},\n",
       " {'user_id': '1079796',\n",
       "  'Duration': 588.73,\n",
       "  'Residence': 'YVL',\n",
       "  'Number Theory III': 83.0,\n",
       "  'Real Analysis III': 36.0},\n",
       " {'user_id': '1080298',\n",
       "  'Duration': 1139.6100000000001,\n",
       "  'Residence': 'Not In Residence',\n",
       "  'Number Theory III': 50.0,\n",
       "  'Complex Analysis III': 68.0,\n",
       "  'Group Theory III': 50.0,\n",
       "  'Rings and Fields III': 53.0,\n",
       "  'Differential Geometry III': 56.0,\n",
       "  'Real Analysis III': 44.0,\n",
       "  'Coding and Cryptography III': 67.0},\n",
       " {'user_id': '1101498',\n",
       "  'Duration': 773.51,\n",
       "  'Residence': 'Not In Residence',\n",
       "  'Coding and Cryptography III': 63.0,\n",
       "  'Complex Analysis III': 53.0,\n",
       "  'Group Theory III': 70.0,\n",
       "  'Topology III': 50.0,\n",
       "  'Real Analysis III': 57.0,\n",
       "  'Leontief Systems III': 67.0,\n",
       "  'Number Theory III': 45.0,\n",
       "  'Rings and Fields III': 64.0},\n",
       " {'user_id': '1101771',\n",
       "  'Duration': 12184.8,\n",
       "  'Residence': 'MHR',\n",
       "  'Number Theory III': 90.0,\n",
       "  'Coding and Cryptography III': 80.0,\n",
       "  'Complex Analysis III': 71.0,\n",
       "  'Group Theory III': 51.0,\n",
       "  'Real Analysis III': 50.0,\n",
       "  'Leontief Systems III': 64.0},\n",
       " {'user_id': '1080826',\n",
       "  'Duration': 22444.82,\n",
       "  'Residence': 'Not In Residence',\n",
       "  'Coding and Cryptography III': 47.0,\n",
       "  'Leontief Systems III': 38.0},\n",
       " {'user_id': '1091553',\n",
       "  'Duration': 2905.1800000000003,\n",
       "  'Residence': 'Not In Residence',\n",
       "  'Number Theory III': 82.0,\n",
       "  'Coding and Cryptography III': 84.0,\n",
       "  'Complex Analysis III': 84.0,\n",
       "  'Group Theory III': 67.0,\n",
       "  'Real Analysis III': 66.0,\n",
       "  'Leontief Systems III': 76.0},\n",
       " {'user_id': '1078362',\n",
       "  'Duration': 24.75,\n",
       "  'Residence': 'Not In Residence',\n",
       "  'Number Theory III': 67.0,\n",
       "  'Coding and Cryptography III': 73.0,\n",
       "  'Complex Analysis III': 81.0,\n",
       "  'Group Theory III': 60.0,\n",
       "  'Real Analysis III': 53.0,\n",
       "  'Leontief Systems III': 61.0},\n",
       " {'user_id': '1108959',\n",
       "  'Duration': 6736.409999999999,\n",
       "  'Residence': 'Not In Residence',\n",
       "  'Number Theory III': 66.0,\n",
       "  'Coding and Cryptography III': 81.0,\n",
       "  'Complex Analysis III': 63.0,\n",
       "  'Group Theory III': 52.0,\n",
       "  'Real Analysis III': 35.0,\n",
       "  'Leontief Systems III': 58.0},\n",
       " {'user_id': '1104294',\n",
       "  'Duration': 6218.029999999999,\n",
       "  'Residence': 'MHR',\n",
       "  'Number Theory III': 60.0,\n",
       "  'Coding and Cryptography III': 52.0,\n",
       "  'Leontief Systems III': 33.0},\n",
       " {'user_id': '1118055',\n",
       "  'Duration': 2637.8599999999997,\n",
       "  'Residence': 'REN',\n",
       "  'Number Theory III': 83.0,\n",
       "  'Coding and Cryptography III': 37.0,\n",
       "  'Complex Analysis III': 56.0,\n",
       "  'Group Theory III': 66.0,\n",
       "  'Real Analysis III': 32.0,\n",
       "  'Leontief Systems III': 30.0},\n",
       " {'user_id': '1113627',\n",
       "  'Duration': 1018.08,\n",
       "  'Residence': 'BAR',\n",
       "  'Number Theory III': 50.0,\n",
       "  'Coding and Cryptography III': 36.0,\n",
       "  'Complex Analysis III': 44.0,\n",
       "  'Group Theory III': 41.0,\n",
       "  'Real Analysis III': 35.0,\n",
       "  'Leontief Systems III': 36.0},\n",
       " {'user_id': '1101930',\n",
       "  'Duration': 335.54,\n",
       "  'Residence': 'Not In Residence',\n",
       "  'Number Theory III': 43.0,\n",
       "  'Coding and Cryptography III': 80.0,\n",
       "  'Complex Analysis III': 60.0,\n",
       "  'Group Theory III': 31.0,\n",
       "  'Real Analysis III': 24.0,\n",
       "  'Leontief Systems III': 38.0},\n",
       " {'user_id': '1102107',\n",
       "  'Duration': 1100.04,\n",
       "  'Residence': 'Not In Residence',\n",
       "  'Number Theory III': 61.0,\n",
       "  'Coding and Cryptography III': 63.0,\n",
       "  'Group Theory III': 60.0,\n",
       "  'Leontief Systems III': 50.0},\n",
       " {'user_id': '1124563',\n",
       "  'Duration': 538.8299999999999,\n",
       "  'Residence': 'Not In Residence',\n",
       "  'Number Theory III': 70.0,\n",
       "  'Coding and Cryptography III': 47.0,\n",
       "  'Complex Analysis III': 39.0,\n",
       "  'Group Theory III': 32.0,\n",
       "  'Real Analysis III': 45.0,\n",
       "  'Leontief Systems III': 50.0},\n",
       " {'user_id': '1134816',\n",
       "  'Duration': 38970.560000000005,\n",
       "  'Residence': 'KNK',\n",
       "  'Number Theory III': 66.0,\n",
       "  'Coding and Cryptography III': 75.0,\n",
       "  'Complex Analysis III': 53.0,\n",
       "  'Group Theory III': 60.0,\n",
       "  'Real Analysis III': 50.0,\n",
       "  'Leontief Systems III': 53.0},\n",
       " {'user_id': '1125305',\n",
       "  'Duration': 35895.43,\n",
       "  'Residence': 'Not In Residence',\n",
       "  'Coding and Cryptography III': 60.0,\n",
       "  'Complex Analysis III': 39.0,\n",
       "  'Group Theory III': 44.0,\n",
       "  'Topology III': 19.0,\n",
       "  'Differential Geometry III': 0.0,\n",
       "  'Real Analysis III': 19.0},\n",
       " {'user_id': '1130539',\n",
       "  'Duration': 3061.7900000000004,\n",
       "  'Residence': 'Not In Residence',\n",
       "  'Number Theory III': 66.0,\n",
       "  'Coding and Cryptography III': 75.0,\n",
       "  'Complex Analysis III': 75.0,\n",
       "  'Group Theory III': 57.0,\n",
       "  'Real Analysis III': 37.0,\n",
       "  'Leontief Systems III': 51.0},\n",
       " {'user_id': '1136872',\n",
       "  'Duration': 6151.889999999999,\n",
       "  'Residence': 'YVL',\n",
       "  'Coding and Cryptography III': 41.0,\n",
       "  'Group Theory III': 50.0},\n",
       " {'user_id': '1137682',\n",
       "  'Duration': 12555.01,\n",
       "  'Residence': 'Not In Residence',\n",
       "  'Number Theory III': 70.0,\n",
       "  'Coding and Cryptography III': 61.0,\n",
       "  'Complex Analysis III': 46.0,\n",
       "  'Group Theory III': 75.0,\n",
       "  'Real Analysis III': 55.0,\n",
       "  'Leontief Systems III': 53.0},\n",
       " {'user_id': '1126619',\n",
       "  'Duration': 2545.11,\n",
       "  'Residence': 'Not In Residence',\n",
       "  'Number Theory III': 50.0,\n",
       "  'Coding and Cryptography III': 53.0,\n",
       "  'Leontief Systems III': 28.0},\n",
       " {'user_id': '1144845',\n",
       "  'Duration': 1856.5,\n",
       "  'Residence': 'Not In Residence',\n",
       "  'Number Theory III': 75.0,\n",
       "  'Complex Analysis III': 62.0,\n",
       "  'Group Theory III': 50.0,\n",
       "  'Rings and Fields III': 50.0,\n",
       "  'Differential Geometry III': 62.0,\n",
       "  'Real Analysis III': 52.0},\n",
       " {'user_id': '1167662',\n",
       "  'Duration': 316.67,\n",
       "  'Residence': 'Not In Residence',\n",
       "  'Number Theory III': 60.0,\n",
       "  'Coding and Cryptography III': 37.0,\n",
       "  'Leontief Systems III': 39.0},\n",
       " {'user_id': '1146939',\n",
       "  'Duration': 125.27,\n",
       "  'Residence': 'JCT',\n",
       "  'Number Theory III': 39.0,\n",
       "  'Coding and Cryptography III': 36.0,\n",
       "  'Leontief Systems III': 16.0},\n",
       " {'user_id': '1147520',\n",
       "  'Duration': 287.46,\n",
       "  'Residence': 'DWH',\n",
       "  'Number Theory III': 50.0,\n",
       "  'Coding and Cryptography III': 60.0,\n",
       "  'Complex Analysis III': 73.0,\n",
       "  'Group Theory III': 71.0,\n",
       "  'Real Analysis III': 66.0,\n",
       "  'Leontief Systems III': 50.0},\n",
       " {'user_id': '1168115',\n",
       "  'Duration': 1647.69,\n",
       "  'Residence': 'KNK',\n",
       "  'Number Theory III': 75.0,\n",
       "  'Complex Analysis III': 52.0,\n",
       "  'Group Theory III': 72.0,\n",
       "  'Rings and Fields III': 56.0,\n",
       "  'Real Analysis III': 50.0,\n",
       "  'Leontief Systems III': 60.0},\n",
       " {'user_id': '1257537',\n",
       "  'Duration': 9486.82,\n",
       "  'Residence': 'Not In Residence',\n",
       "  'Number Theory III': 68.0,\n",
       "  'Coding and Cryptography III': 50.0,\n",
       "  'Complex Analysis III': 42.0,\n",
       "  'Group Theory III': 63.0,\n",
       "  'Real Analysis III': 42.0,\n",
       "  'Leontief Systems III': 36.0},\n",
       " {'user_id': '1239279',\n",
       "  'Duration': 785.53,\n",
       "  'Residence': 'REN',\n",
       "  'Number Theory III': 77.0,\n",
       "  'Coding and Cryptography III': 71.0,\n",
       "  'Complex Analysis III': 70.0,\n",
       "  'Group Theory III': 56.0,\n",
       "  'Real Analysis III': 44.0,\n",
       "  'Leontief Systems III': 62.0},\n",
       " {'user_id': '1250729',\n",
       "  'Duration': 9245.12,\n",
       "  'Residence': 'Not In Residence',\n",
       "  'Number Theory III': 66.0,\n",
       "  'Coding and Cryptography III': 91.0,\n",
       "  'Complex Analysis III': 86.0,\n",
       "  'Group Theory III': 64.0,\n",
       "  'Differential Geometry III': 44.0,\n",
       "  'Real Analysis III': 42.0},\n",
       " {'user_id': '1229576',\n",
       "  'Duration': 5168.39,\n",
       "  'Residence': 'Not In Residence',\n",
       "  'Number Theory III': 71.0,\n",
       "  'Coding and Cryptography III': 62.0,\n",
       "  'Complex Analysis III': 51.0,\n",
       "  'Group Theory III': 31.0,\n",
       "  'Real Analysis III': 0.0,\n",
       "  'Leontief Systems III': 38.0},\n",
       " {'user_id': '1254642',\n",
       "  'Duration': 295.71999999999997,\n",
       "  'Residence': 'Not In Residence',\n",
       "  'Number Theory III': 77.0,\n",
       "  'Coding and Cryptography III': 66.0,\n",
       "  'Complex Analysis III': 64.0,\n",
       "  'Group Theory III': 61.0,\n",
       "  'Real Analysis III': 57.0,\n",
       "  'Leontief Systems III': 65.0},\n",
       " {'user_id': '1242739',\n",
       "  'Duration': 1794.71,\n",
       "  'Residence': 'DWH',\n",
       "  'Number Theory III': 60.0,\n",
       "  'Coding and Cryptography III': 67.0,\n",
       "  'Complex Analysis III': 76.0,\n",
       "  'Group Theory III': 60.0,\n",
       "  'Differential Geometry III': 56.0,\n",
       "  'Real Analysis III': 38.0},\n",
       " {'user_id': '1335256',\n",
       "  'Duration': 388.12,\n",
       "  'Residence': 'MHR',\n",
       "  'Complex Analysis III': 72.0,\n",
       "  'Group Theory III': 76.0,\n",
       "  'Rings and Fields III': 71.0,\n",
       "  'Topology III': 76.0,\n",
       "  'Differential Geometry III': 62.0,\n",
       "  'Real Analysis III': 53.0},\n",
       " {'user_id': '1323455',\n",
       "  'Duration': 12145.48,\n",
       "  'Residence': 'Not In Residence',\n",
       "  'Number Theory III': 70.0,\n",
       "  'Coding and Cryptography III': 62.0,\n",
       "  'Leontief Systems III': 50.0},\n",
       " {'user_id': '1348744',\n",
       "  'Duration': 6569.790000000001,\n",
       "  'Residence': 'MHR',\n",
       "  'Coding and Cryptography III': 63.0},\n",
       " {'user_id': '1367404',\n",
       "  'Duration': 1906.2099999999998,\n",
       "  'Residence': 'Not In Residence',\n",
       "  'Coding and Cryptography III': 51.0},\n",
       " {'user_id': '1367619',\n",
       "  'Duration': 2295.4,\n",
       "  'Residence': 'Not In Residence',\n",
       "  'Number Theory III': 54.0,\n",
       "  'Coding and Cryptography III': 38.0,\n",
       "  'Leontief Systems III': 32.0},\n",
       " {'user_id': '1354477',\n",
       "  'Duration': 17435.63,\n",
       "  'Residence': 'Not In Residence',\n",
       "  'Number Theory III': 87.0,\n",
       "  'Group Theory III': 85.0},\n",
       " {'user_id': '1354547',\n",
       "  'Duration': 1674.63,\n",
       "  'Residence': 'Not In Residence',\n",
       "  'Coding and Cryptography III': 68.0,\n",
       "  'Complex Analysis III': 19.0,\n",
       "  'Group Theory III': 36.0,\n",
       "  'Topology III': 60.0,\n",
       "  'Real Analysis III': 41.0,\n",
       "  'Leontief Systems III': 54.0},\n",
       " {'user_id': '1353141',\n",
       "  'Duration': 168.41000000000003,\n",
       "  'Residence': 'KNK',\n",
       "  'Number Theory III': 62.0,\n",
       "  'Complex Analysis III': 37.0,\n",
       "  'Group Theory III': 65.0,\n",
       "  'Rings and Fields III': 27.0,\n",
       "  'Real Analysis III': 36.0,\n",
       "  'Leontief Systems III': 33.0},\n",
       " {'user_id': '1373306',\n",
       "  'Duration': 3961.2,\n",
       "  'Residence': 'JCT',\n",
       "  'Number Theory III': 83.0,\n",
       "  'Coding and Cryptography III': 73.0,\n",
       "  'Complex Analysis III': 83.0,\n",
       "  'Group Theory III': 60.0,\n",
       "  'Differential Geometry III': 65.0,\n",
       "  'Real Analysis III': 43.0},\n",
       " {'user_id': '1386161',\n",
       "  'Duration': 786.75,\n",
       "  'Residence': 'Not In Residence',\n",
       "  'Number Theory III': 53.0,\n",
       "  'Coding and Cryptography III': 58.0,\n",
       "  'Group Theory III': 0.0,\n",
       "  'Leontief Systems III': 36.0},\n",
       " {'user_id': '1375363',\n",
       "  'Duration': 634.06,\n",
       "  'Residence': 'BAR',\n",
       "  'Number Theory III': 66.0,\n",
       "  'Coding and Cryptography III': 70.0,\n",
       "  'Complex Analysis III': 61.0,\n",
       "  'Group Theory III': 58.0,\n",
       "  'Real Analysis III': 50.0,\n",
       "  'Leontief Systems III': 44.0},\n",
       " {'user_id': '1370909',\n",
       "  'Duration': 4729.3099999999995,\n",
       "  'Residence': 'Not In Residence',\n",
       "  'Number Theory III': 88.0,\n",
       "  'Coding and Cryptography III': 68.0,\n",
       "  'Complex Analysis III': 78.0,\n",
       "  'Group Theory III': 68.0,\n",
       "  'Real Analysis III': 65.0,\n",
       "  'Leontief Systems III': 70.0},\n",
       " {'user_id': '1404403',\n",
       "  'Duration': 905.85,\n",
       "  'Residence': 'DWH',\n",
       "  'Number Theory III': 84.0,\n",
       "  'Coding and Cryptography III': 50.0},\n",
       " {'user_id': '1414769',\n",
       "  'Duration': 352.26,\n",
       "  'Residence': 'Not In Residence',\n",
       "  'Number Theory III': 73.0,\n",
       "  'Coding and Cryptography III': 61.0,\n",
       "  'Complex Analysis III': 72.0,\n",
       "  'Group Theory III': 63.0,\n",
       "  'Differential Geometry III': 50.0,\n",
       "  'Real Analysis III': 44.0},\n",
       " {'user_id': '1406186',\n",
       "  'Duration': 19967.78,\n",
       "  'Residence': 'Not In Residence',\n",
       "  'Coding and Cryptography III': 77.0,\n",
       "  'Complex Analysis III': 51.0,\n",
       "  'Group Theory III': 63.0,\n",
       "  'Topology III': 71.0,\n",
       "  'Real Analysis III': 55.0,\n",
       "  'Leontief Systems III': 66.0},\n",
       " {'user_id': '1407370',\n",
       "  'Duration': 81.6,\n",
       "  'Residence': 'Not In Residence',\n",
       "  'Number Theory III': 68.0,\n",
       "  'Coding and Cryptography III': 75.0,\n",
       "  'Complex Analysis III': 60.0,\n",
       "  'Group Theory III': 68.0,\n",
       "  'Real Analysis III': 50.0,\n",
       "  'Leontief Systems III': 56.0},\n",
       " {'user_id': '1396207',\n",
       "  'Duration': 8273.41,\n",
       "  'Residence': 'Not In Residence',\n",
       "  'Number Theory III': 90.0,\n",
       "  'Complex Analysis III': 53.0,\n",
       "  'Group Theory III': 87.0,\n",
       "  'Rings and Fields III': 58.0,\n",
       "  'Differential Geometry III': 77.0,\n",
       "  'Real Analysis III': 64.0},\n",
       " {'user_id': '1396431',\n",
       "  'Duration': 2328.21,\n",
       "  'Residence': 'NOS',\n",
       "  'Coding and Cryptography III': 66.0},\n",
       " {'user_id': '1417833',\n",
       "  'Duration': 5514.06,\n",
       "  'Residence': 'Not In Residence',\n",
       "  'Number Theory III': 80.0,\n",
       "  'Coding and Cryptography III': 81.0,\n",
       "  'Complex Analysis III': 80.0,\n",
       "  'Group Theory III': 80.0,\n",
       "  'Differential Geometry III': 57.0,\n",
       "  'Real Analysis III': 54.0},\n",
       " {'user_id': '1429734',\n",
       "  'Duration': 29470.52,\n",
       "  'Residence': 'REI',\n",
       "  'Number Theory III': 83.0,\n",
       "  'Coding and Cryptography III': 65.0,\n",
       "  'Complex Analysis III': 56.0,\n",
       "  'Group Theory III': 64.0,\n",
       "  'Real Analysis III': 61.0,\n",
       "  'Leontief Systems III': 52.0},\n",
       " {'user_id': '1421655',\n",
       "  'Duration': 11320.24,\n",
       "  'Residence': 'Not In Residence',\n",
       "  'Coding and Cryptography III': 50.0},\n",
       " {'user_id': '1443703',\n",
       "  'Duration': 972.6099999999999,\n",
       "  'Residence': 'Not In Residence',\n",
       "  'Number Theory III': 45.0,\n",
       "  'Coding and Cryptography III': 56.0,\n",
       "  'Leontief Systems III': 36.0},\n",
       " {'user_id': '1440395',\n",
       "  'Duration': 19677.41,\n",
       "  'Residence': 'Not In Residence',\n",
       "  'Number Theory III': 62.0,\n",
       "  'Coding and Cryptography III': 63.0,\n",
       "  'Complex Analysis III': 58.0,\n",
       "  'Group Theory III': 43.0,\n",
       "  'Real Analysis III': 26.0,\n",
       "  'Leontief Systems III': 53.0},\n",
       " {'user_id': '1441288',\n",
       "  'Duration': 5388.45,\n",
       "  'Residence': 'REI',\n",
       "  'Number Theory III': 78.0,\n",
       "  'Coding and Cryptography III': 71.0,\n",
       "  'Complex Analysis III': 64.0,\n",
       "  'Group Theory III': 86.0,\n",
       "  'Real Analysis III': 61.0,\n",
       "  'Leontief Systems III': 68.0},\n",
       " {'user_id': '1464373',\n",
       "  'Duration': 8751.789999999999,\n",
       "  'Residence': 'Not In Residence',\n",
       "  'Number Theory III': 71.0,\n",
       "  'Coding and Cryptography III': 75.0,\n",
       "  'Complex Analysis III': 71.0,\n",
       "  'Group Theory III': 54.0,\n",
       "  'Real Analysis III': 56.0,\n",
       "  'Leontief Systems III': 60.0},\n",
       " {'user_id': '1466791',\n",
       "  'Duration': 17301.38,\n",
       "  'Residence': 'Not In Residence',\n",
       "  'Number Theory III': 93.0,\n",
       "  'Coding and Cryptography III': 91.0,\n",
       "  'Leontief Systems III': 72.0},\n",
       " {'user_id': '1482363',\n",
       "  'Duration': 3367.0599999999995,\n",
       "  'Residence': 'Not In Residence',\n",
       "  'Complex Analysis III': 72.0,\n",
       "  'Group Theory III': 95.0,\n",
       "  'Rings and Fields III': 90.0,\n",
       "  'Topology III': 98.0,\n",
       "  'Differential Geometry III': 94.0,\n",
       "  'Real Analysis III': 80.0},\n",
       " {'user_id': '1534775',\n",
       "  'Duration': 6965.62,\n",
       "  'Residence': 'Not In Residence',\n",
       "  'Number Theory III': 60.0,\n",
       "  'Coding and Cryptography III': 58.0,\n",
       "  'Complex Analysis III': 0.0,\n",
       "  'Group Theory III': 54.0,\n",
       "  'Real Analysis III': 0.0,\n",
       "  'Leontief Systems III': 38.0},\n",
       " {'user_id': '1490320',\n",
       "  'Duration': 1896.29,\n",
       "  'Residence': 'MHR',\n",
       "  'Number Theory III': 54.0,\n",
       "  'Coding and Cryptography III': 54.0,\n",
       "  'Complex Analysis III': 44.0,\n",
       "  'Group Theory III': 42.0,\n",
       "  'Real Analysis III': 24.0,\n",
       "  'Leontief Systems III': 38.0},\n",
       " {'user_id': '1490527',\n",
       "  'Duration': 319.67,\n",
       "  'Residence': 'Not In Residence',\n",
       "  'Number Theory III': 73.0,\n",
       "  'Coding and Cryptography III': 83.0,\n",
       "  'Complex Analysis III': 70.0,\n",
       "  'Group Theory III': 75.0,\n",
       "  'Differential Geometry III': 56.0,\n",
       "  'Real Analysis III': 54.0},\n",
       " {'user_id': '1491720',\n",
       "  'Duration': 3041.72,\n",
       "  'Residence': 'Not In Residence',\n",
       "  'Coding and Cryptography III': 68.0,\n",
       "  'Leontief Systems III': 75.0},\n",
       " {'user_id': '296339',\n",
       "  'Duration': 1535.8100000000002,\n",
       "  'Residence': 'Not In Residence',\n",
       "  'Number Theory III': 63.0,\n",
       "  'Coding and Cryptography III': 70.0,\n",
       "  'Complex Analysis III': 59.0,\n",
       "  'Group Theory III': 77.0,\n",
       "  'Real Analysis III': 50.0,\n",
       "  'Leontief Systems III': 37.0,\n",
       "  'Rings and Fields III': 73.0,\n",
       "  'Differential Geometry III': 100.0},\n",
       " {'user_id': '679359',\n",
       "  'Duration': 1587.83,\n",
       "  'Residence': 'Not In Residence',\n",
       "  'Number Theory III': 55.0,\n",
       "  'Coding and Cryptography III': 71.0,\n",
       "  'Complex Analysis III': 67.0,\n",
       "  'Group Theory III': 41.0,\n",
       "  'Real Analysis III': 40.0,\n",
       "  'Leontief Systems III': 40.0},\n",
       " {'user_id': '604124',\n",
       "  'Duration': 3281.57,\n",
       "  'Residence': 'Not In Residence',\n",
       "  'Number Theory III': 64.0,\n",
       "  'Coding and Cryptography III': 56.0,\n",
       "  'Complex Analysis III': 36.0,\n",
       "  'Group Theory III': 54.0,\n",
       "  'Leontief Systems III': 52.0},\n",
       " {'user_id': '540467',\n",
       "  'Duration': 3367.2799999999997,\n",
       "  'Residence': 'Not In Residence',\n",
       "  'Number Theory III': 60.0,\n",
       "  'Coding and Cryptography III': 70.0,\n",
       "  'Complex Analysis III': 64.0,\n",
       "  'Group Theory III': 0.0,\n",
       "  'Real Analysis III': 50.0,\n",
       "  'Leontief Systems III': 68.0,\n",
       "  'Topology III': 0.0},\n",
       " {'user_id': '608598',\n",
       "  'Duration': 1060.81,\n",
       "  'Residence': 'Not In Residence',\n",
       "  'Number Theory III': 70.0,\n",
       "  'Coding and Cryptography III': 63.0,\n",
       "  'Complex Analysis III': 66.0,\n",
       "  'Group Theory III': 54.0,\n",
       "  'Real Analysis III': 45.0,\n",
       "  'Leontief Systems III': 55.0},\n",
       " {'user_id': '729117',\n",
       "  'Duration': 1307.08,\n",
       "  'Residence': 'REN',\n",
       "  'Number Theory III': 77.0,\n",
       "  'Coding and Cryptography III': 90.0,\n",
       "  'Complex Analysis III': 72.0,\n",
       "  'Group Theory III': 61.0,\n",
       "  'Real Analysis III': 50.0,\n",
       "  'Leontief Systems III': 70.0},\n",
       " {'user_id': '708146',\n",
       "  'Duration': 607.1099999999999,\n",
       "  'Residence': 'Not In Residence',\n",
       "  'Number Theory III': 63.0,\n",
       "  'Coding and Cryptography III': 77.0,\n",
       "  'Complex Analysis III': 61.0,\n",
       "  'Group Theory III': 81.0,\n",
       "  'Real Analysis III': 50.0,\n",
       "  'Leontief Systems III': 70.0,\n",
       "  'Topology III': 58.0},\n",
       " {'user_id': '710005',\n",
       "  'Duration': 5683.82,\n",
       "  'Residence': 'Not In Residence',\n",
       "  'Number Theory III': 62.0,\n",
       "  'Coding and Cryptography III': 71.0,\n",
       "  'Complex Analysis III': 72.0,\n",
       "  'Group Theory III': 60.0,\n",
       "  'Real Analysis III': 67.0,\n",
       "  'Leontief Systems III': 63.0},\n",
       " {'user_id': '718329',\n",
       "  'Duration': 7011.36,\n",
       "  'Residence': 'JCT',\n",
       "  'Number Theory III': 75.0,\n",
       "  'Coding and Cryptography III': 72.0,\n",
       "  'Complex Analysis III': 50.0,\n",
       "  'Group Theory III': 68.0,\n",
       "  'Real Analysis III': 53.0,\n",
       "  'Leontief Systems III': 76.0},\n",
       " {'user_id': '698679',\n",
       "  'Duration': 9442.32,\n",
       "  'Residence': 'Not In Residence',\n",
       "  'Number Theory III': 71.0,\n",
       "  'Coding and Cryptography III': 67.0,\n",
       "  'Complex Analysis III': 65.0,\n",
       "  'Group Theory III': 48.0,\n",
       "  'Real Analysis III': 44.0,\n",
       "  'Leontief Systems III': 55.0},\n",
       " {'user_id': '749889',\n",
       "  'Duration': 21187.230000000003,\n",
       "  'Residence': 'Not In Residence',\n",
       "  'Number Theory III': 50.0,\n",
       "  'Coding and Cryptography III': 70.0,\n",
       "  'Complex Analysis III': 55.0,\n",
       "  'Group Theory III': 56.0,\n",
       "  'Real Analysis III': 27.0,\n",
       "  'Leontief Systems III': 50.0,\n",
       "  'Rings and Fields III': 32.0,\n",
       "  'Topology III': 50.0},\n",
       " {'user_id': '791937',\n",
       "  'Duration': 11679.669999999998,\n",
       "  'Residence': 'Not In Residence',\n",
       "  'Number Theory III': 96.0,\n",
       "  'Coding and Cryptography III': 66.0,\n",
       "  'Complex Analysis III': 75.0,\n",
       "  'Group Theory III': 66.0,\n",
       "  'Real Analysis III': 70.0,\n",
       "  'Leontief Systems III': 64.0},\n",
       " {'user_id': '793294',\n",
       "  'Duration': 22003.410000000003,\n",
       "  'Residence': 'Not In Residence',\n",
       "  'Number Theory III': 55.0,\n",
       "  'Coding and Cryptography III': 81.0,\n",
       "  'Complex Analysis III': 80.0,\n",
       "  'Group Theory III': 60.0,\n",
       "  'Real Analysis III': 54.0,\n",
       "  'Leontief Systems III': 52.0},\n",
       " {'user_id': '787656',\n",
       "  'Duration': 3241.0000000000005,\n",
       "  'Residence': 'Not In Residence',\n",
       "  'Number Theory III': 71.0,\n",
       "  'Coding and Cryptography III': 32.0,\n",
       "  'Complex Analysis III': 19.0,\n",
       "  'Group Theory III': 38.0,\n",
       "  'Real Analysis III': 36.0,\n",
       "  'Leontief Systems III': 24.0},\n",
       " {'user_id': '747011',\n",
       "  'Duration': 86.17999999999999,\n",
       "  'Residence': 'Not In Residence',\n",
       "  'Number Theory III': 57.0,\n",
       "  'Coding and Cryptography III': 90.0,\n",
       "  'Complex Analysis III': 71.0,\n",
       "  'Group Theory III': 62.0,\n",
       "  'Real Analysis III': 51.0,\n",
       "  'Leontief Systems III': 58.0},\n",
       " {'user_id': '747582',\n",
       "  'Duration': 14492.28,\n",
       "  'Residence': 'Not In Residence',\n",
       "  'Number Theory III': 62.0,\n",
       "  'Coding and Cryptography III': 59.0,\n",
       "  'Complex Analysis III': 70.0,\n",
       "  'Group Theory III': 65.0,\n",
       "  'Real Analysis III': 50.0,\n",
       "  'Leontief Systems III': 63.0},\n",
       " {'user_id': '776115',\n",
       "  'Duration': 11435.23,\n",
       "  'Residence': 'Not In Residence',\n",
       "  'Number Theory III': 66.0,\n",
       "  'Complex Analysis III': 63.0,\n",
       "  'Group Theory III': 70.0,\n",
       "  'Rings and Fields III': 60.0,\n",
       "  'Differential Geometry III': 75.0,\n",
       "  'Real Analysis III': 51.0},\n",
       " {'user_id': '734629',\n",
       "  'Duration': 4170.099999999999,\n",
       "  'Residence': 'Not In Residence',\n",
       "  'Number Theory III': 72.0,\n",
       "  'Coding and Cryptography III': 70.0,\n",
       "  'Complex Analysis III': 61.0,\n",
       "  'Group Theory III': 50.0,\n",
       "  'Real Analysis III': 35.0,\n",
       "  'Leontief Systems III': 42.0},\n",
       " {'user_id': '828301',\n",
       "  'Duration': 1.4,\n",
       "  'Residence': 'Not In Residence',\n",
       "  'Complex Analysis III': 51.0},\n",
       " {'user_id': '800361',\n",
       "  'Duration': 3212.88,\n",
       "  'Residence': 'Not In Residence',\n",
       "  'Number Theory III': 50.0,\n",
       "  'Coding and Cryptography III': 32.0,\n",
       "  'Complex Analysis III': 23.0,\n",
       "  'Group Theory III': 26.0,\n",
       "  'Real Analysis III': 26.0,\n",
       "  'Leontief Systems III': 39.0},\n",
       " {'user_id': '818683',\n",
       "  'Duration': 27721.350000000002,\n",
       "  'Residence': 'Not In Residence',\n",
       "  'Number Theory III': 64.0,\n",
       "  'Coding and Cryptography III': 70.0,\n",
       "  'Complex Analysis III': 62.0,\n",
       "  'Group Theory III': 50.0,\n",
       "  'Real Analysis III': 52.0,\n",
       "  'Leontief Systems III': 52.0},\n",
       " {'user_id': '804730',\n",
       "  'Duration': 347.63,\n",
       "  'Residence': 'REN',\n",
       "  'Number Theory III': 58.0,\n",
       "  'Coding and Cryptography III': 0.0,\n",
       "  'Complex Analysis III': 57.0,\n",
       "  'Real Analysis III': 0.0,\n",
       "  'Group Theory III': 0.0,\n",
       "  'Topology III': 0.0,\n",
       "  'Leontief Systems III': 40.0},\n",
       " {'user_id': '797880',\n",
       "  'Duration': 5063.879999999999,\n",
       "  'Residence': 'Not In Residence',\n",
       "  'Number Theory III': 67.0,\n",
       "  'Coding and Cryptography III': 78.0},\n",
       " {'user_id': '797887',\n",
       "  'Duration': 40200.729999999996,\n",
       "  'Residence': 'Not In Residence',\n",
       "  'Coding and Cryptography III': 9.0,\n",
       "  'Complex Analysis III': 18.0,\n",
       "  'Group Theory III': 57.0,\n",
       "  'Topology III': 44.0,\n",
       "  'Differential Geometry III': 4.0,\n",
       "  'Real Analysis III': 40.0},\n",
       " {'user_id': '853814',\n",
       "  'Duration': 7776.0,\n",
       "  'Residence': 'Not In Residence',\n",
       "  'Number Theory III': 60.0,\n",
       "  'Coding and Cryptography III': 50.0,\n",
       "  'Complex Analysis III': 31.0,\n",
       "  'Group Theory III': 53.0,\n",
       "  'Real Analysis III': 35.0,\n",
       "  'Leontief Systems III': 50.0},\n",
       " {'user_id': '857656',\n",
       "  'Duration': 1734.8700000000001,\n",
       "  'Residence': 'REN',\n",
       "  'Number Theory III': 57.0,\n",
       "  'Coding and Cryptography III': 62.0,\n",
       "  'Complex Analysis III': 63.0,\n",
       "  'Group Theory III': 68.0,\n",
       "  'Real Analysis III': 44.0,\n",
       "  'Leontief Systems III': 50.0,\n",
       "  'Rings and Fields III': 56.0,\n",
       "  'Differential Geometry III': 73.0},\n",
       " {'user_id': '908936',\n",
       "  'Duration': 4942.24,\n",
       "  'Residence': 'YVL',\n",
       "  'Number Theory III': 51.0,\n",
       "  'Coding and Cryptography III': 55.0,\n",
       "  'Complex Analysis III': 52.0,\n",
       "  'Group Theory III': 27.0,\n",
       "  'Real Analysis III': 22.0,\n",
       "  'Leontief Systems III': 36.0},\n",
       " {'user_id': '886156',\n",
       "  'Duration': 240.0,\n",
       "  'Residence': 'BAR',\n",
       "  'Number Theory III': 56.0,\n",
       "  'Coding and Cryptography III': 86.0,\n",
       "  'Complex Analysis III': 64.0,\n",
       "  'Group Theory III': 48.0,\n",
       "  'Real Analysis III': 35.0,\n",
       "  'Leontief Systems III': 53.0},\n",
       " {'user_id': '915702',\n",
       "  'Duration': 1393.93,\n",
       "  'Residence': 'Not In Residence',\n",
       "  'Number Theory III': 50.0,\n",
       "  'Coding and Cryptography III': 50.0,\n",
       "  'Complex Analysis III': 26.0,\n",
       "  'Group Theory III': 24.0,\n",
       "  'Real Analysis III': 9.0,\n",
       "  'Leontief Systems III': 32.0},\n",
       " {'user_id': '895253',\n",
       "  'Duration': 4604.86,\n",
       "  'Residence': 'REN',\n",
       "  'Number Theory III': 29.0,\n",
       "  'Coding and Cryptography III': 52.0,\n",
       "  'Complex Analysis III': 56.0,\n",
       "  'Group Theory III': 0.0,\n",
       "  'Real Analysis III': 15.0,\n",
       "  'Leontief Systems III': 24.0},\n",
       " {'user_id': '704529',\n",
       "  'Duration': 263.14,\n",
       "  'Residence': 'Not In Residence',\n",
       "  'Number Theory III': 85.0,\n",
       "  'Coding and Cryptography III': 62.0,\n",
       "  'Complex Analysis III': 68.0,\n",
       "  'Group Theory III': 50.0,\n",
       "  'Real Analysis III': 32.0,\n",
       "  'Leontief Systems III': 41.0,\n",
       "  'Rings and Fields III': 48.0}]"
      ]
     },
     "execution_count": 158,
     "metadata": {},
     "output_type": "execute_result"
    }
   ],
   "source": [
    "swipesmonthLab1702yearsMath3[2]"
   ]
  },
  {
   "cell_type": "code",
   "execution_count": 159,
   "metadata": {},
   "outputs": [],
   "source": [
    "a = pd.DataFrame(index = swipesmonthLab1702yearsMath3[0], data = swipesmonthLab1702yearsMath3[2])"
   ]
  },
  {
   "cell_type": "code",
   "execution_count": 160,
   "metadata": {
    "scrolled": true
   },
   "outputs": [],
   "source": [
    "a = a.drop('user_id', axis = 1)"
   ]
  },
  {
   "cell_type": "code",
   "execution_count": 161,
   "metadata": {},
   "outputs": [],
   "source": [
    "# from plotly import graph_objs as go\n",
    "# import plotly.offline as py\n",
    "\n",
    "\n",
    "# labels = ['APARTMENT ONLY', 'ENTIRE BUILDING']\n",
    "# values = [787, 537]\n",
    "\n",
    "\n",
    "# fig = go.Figure(data=[go.Pie(labels=labels, values=values)])\n",
    "# py.iplot(fig)"
   ]
  },
  {
   "cell_type": "code",
   "execution_count": 162,
   "metadata": {},
   "outputs": [
    {
     "data": {
      "text/plain": [
       "870702                  JCT\n",
       "795009     Not In Residence\n",
       "1425583    Not In Residence\n",
       "835527                  REN\n",
       "1126582                 REI\n",
       "                 ...       \n",
       "908936                  YVL\n",
       "886156                  BAR\n",
       "915702     Not In Residence\n",
       "895253                  REN\n",
       "704529     Not In Residence\n",
       "Name: Residence, Length: 141, dtype: object"
      ]
     },
     "execution_count": 162,
     "metadata": {},
     "output_type": "execute_result"
    }
   ],
   "source": [
    "a['Residence']"
   ]
  },
  {
   "cell_type": "code",
   "execution_count": 64,
   "metadata": {
    "scrolled": true
   },
   "outputs": [
    {
     "data": {
      "application/vnd.plotly.v1+json": {
       "config": {
        "plotlyServerURL": "https://plot.ly"
       },
       "data": [
        {
         "hoverlabel": {
          "namelength": 0
         },
         "hovertemplate": "strength=0-1<br>frequency=%{r}<br>direction=%{theta}",
         "legendgroup": "strength=0-1",
         "marker": {
          "color": "#fdca26"
         },
         "name": "strength=0-1",
         "r": [
          0.5,
          0.6,
          0.5,
          0.4,
          0.4,
          0.3,
          0.4,
          0.4,
          0.6,
          0.4,
          0.5,
          0.6,
          0.6,
          0.5,
          0.4,
          0.1
         ],
         "showlegend": true,
         "subplot": "polar",
         "theta": [
          "N",
          "NNE",
          "NE",
          "ENE",
          "E",
          "ESE",
          "SE",
          "SSE",
          "S",
          "SSW",
          "SW",
          "WSW",
          "W",
          "WNW",
          "NW",
          "NNW"
         ],
         "type": "barpolar"
        },
        {
         "hoverlabel": {
          "namelength": 0
         },
         "hovertemplate": "strength=1-2<br>frequency=%{r}<br>direction=%{theta}",
         "legendgroup": "strength=1-2",
         "marker": {
          "color": "#fb9f3a"
         },
         "name": "strength=1-2",
         "r": [
          1.6,
          1.8,
          1.5,
          1.6,
          1.6,
          1.2,
          1.5,
          1.7,
          2.2,
          2,
          2.3,
          2.4,
          2.3,
          2.6,
          2.3,
          0.8
         ],
         "showlegend": true,
         "subplot": "polar",
         "theta": [
          "N",
          "NNE",
          "NE",
          "ENE",
          "E",
          "ESE",
          "SE",
          "SSE",
          "S",
          "SSW",
          "SW",
          "WSW",
          "W",
          "WNW",
          "NW",
          "NNW"
         ],
         "type": "barpolar"
        },
        {
         "hoverlabel": {
          "namelength": 0
         },
         "hovertemplate": "strength=2-3<br>frequency=%{r}<br>direction=%{theta}",
         "legendgroup": "strength=2-3",
         "marker": {
          "color": "#ed7953"
         },
         "name": "strength=2-3",
         "r": [
          0.9,
          1.3,
          1.6,
          0.9,
          1,
          0.6,
          0.6,
          0.9,
          1.4,
          1.7,
          1.9,
          2.2,
          1.8,
          1.7,
          1.8,
          0.8
         ],
         "showlegend": true,
         "subplot": "polar",
         "theta": [
          "N",
          "NNE",
          "NE",
          "ENE",
          "E",
          "ESE",
          "SE",
          "SSE",
          "S",
          "SSW",
          "SW",
          "WSW",
          "W",
          "WNW",
          "NW",
          "NNW"
         ],
         "type": "barpolar"
        },
        {
         "hoverlabel": {
          "namelength": 0
         },
         "hovertemplate": "strength=3-4<br>frequency=%{r}<br>direction=%{theta}",
         "legendgroup": "strength=3-4",
         "marker": {
          "color": "#d8576b"
         },
         "name": "strength=3-4",
         "r": [
          0.9,
          0.8,
          1.2,
          1,
          0.8,
          0.4,
          0.5,
          0.5,
          0.8,
          0.9,
          1.3,
          1.1,
          1.2,
          1.2,
          1.3,
          1
         ],
         "showlegend": true,
         "subplot": "polar",
         "theta": [
          "N",
          "NNE",
          "NE",
          "ENE",
          "E",
          "ESE",
          "SE",
          "SSE",
          "S",
          "SSW",
          "SW",
          "WSW",
          "W",
          "WNW",
          "NW",
          "NNW"
         ],
         "type": "barpolar"
        },
        {
         "hoverlabel": {
          "namelength": 0
         },
         "hovertemplate": "strength=4-4<br>frequency=%{r}<br>direction=%{theta}",
         "legendgroup": "strength=4-4",
         "marker": {
          "color": "#bd3786"
         },
         "name": "strength=4-4",
         "r": [
          0.4,
          0.5,
          1.2,
          0.5,
          0.4,
          0.2,
          0.4,
          0.4,
          0.7,
          0.6,
          0.7,
          0.8,
          0.9,
          1,
          1,
          0.7
         ],
         "showlegend": true,
         "subplot": "polar",
         "theta": [
          "N",
          "NNE",
          "NE",
          "ENE",
          "E",
          "ESE",
          "SE",
          "SSE",
          "S",
          "SSW",
          "SW",
          "WSW",
          "W",
          "WNW",
          "NW",
          "NNW"
         ],
         "type": "barpolar"
        },
        {
         "hoverlabel": {
          "namelength": 0
         },
         "hovertemplate": "strength=4-5<br>frequency=%{r}<br>direction=%{theta}",
         "legendgroup": "strength=4-5",
         "marker": {
          "color": "#9c179e"
         },
         "name": "strength=4-5",
         "r": [
          0.3,
          0.3,
          0.6,
          0.2,
          0.1,
          0.1,
          0.05,
          0.1,
          0.1,
          0.2,
          0.3,
          0.4,
          0.9,
          0.9,
          0.9,
          0.3
         ],
         "showlegend": true,
         "subplot": "polar",
         "theta": [
          "N",
          "NNE",
          "NE",
          "ENE",
          "E",
          "ESE",
          "SE",
          "SSE",
          "S",
          "SSW",
          "SW",
          "WSW",
          "W",
          "WNW",
          "NW",
          "NNW"
         ],
         "type": "barpolar"
        },
        {
         "hoverlabel": {
          "namelength": 0
         },
         "hovertemplate": "strength=5-6<br>frequency=%{r}<br>direction=%{theta}",
         "legendgroup": "strength=5-6",
         "marker": {
          "color": "#7201a8"
         },
         "name": "strength=5-6",
         "r": [
          0.2,
          0.1,
          0.1,
          0.1,
          0.1,
          0.1,
          0.05,
          0.05,
          0.1,
          0.05,
          0.2,
          0.2,
          0.4,
          0.7,
          0.7,
          0.4
         ],
         "showlegend": true,
         "subplot": "polar",
         "theta": [
          "N",
          "NNE",
          "NE",
          "ENE",
          "E",
          "ESE",
          "SE",
          "SSE",
          "S",
          "SSW",
          "SW",
          "WSW",
          "W",
          "WNW",
          "NW",
          "NNW"
         ],
         "type": "barpolar"
        },
        {
         "hoverlabel": {
          "namelength": 0
         },
         "hovertemplate": "strength=6+<br>frequency=%{r}<br>direction=%{theta}",
         "legendgroup": "strength=6+",
         "marker": {
          "color": "#46039f"
         },
         "name": "strength=6+",
         "r": [
          0.1,
          0.1,
          0.1,
          0.1,
          0.1,
          0.05,
          0.05,
          0.05,
          0.05,
          0.1,
          0.1,
          0.1,
          0.9,
          2.2,
          1.5,
          0.2
         ],
         "showlegend": true,
         "subplot": "polar",
         "theta": [
          "N",
          "NNE",
          "NE",
          "ENE",
          "E",
          "ESE",
          "SE",
          "SSE",
          "S",
          "SSW",
          "SW",
          "WSW",
          "W",
          "WNW",
          "NW",
          "NNW"
         ],
         "type": "barpolar"
        }
       ],
       "layout": {
        "barmode": "relative",
        "barnorm": "",
        "height": 600,
        "legend": {
         "tracegroupgap": 0
        },
        "margin": {
         "t": 60
        },
        "polar": {
         "angularaxis": {
          "direction": "clockwise",
          "rotation": 90
         },
         "domain": {
          "x": [
           0,
           0.98
          ],
          "y": [
           0,
           1
          ]
         }
        },
        "template": {
         "data": {
          "bar": [
           {
            "error_x": {
             "color": "#f2f5fa"
            },
            "error_y": {
             "color": "#f2f5fa"
            },
            "marker": {
             "line": {
              "color": "rgb(17,17,17)",
              "width": 0.5
             }
            },
            "type": "bar"
           }
          ],
          "barpolar": [
           {
            "marker": {
             "line": {
              "color": "rgb(17,17,17)",
              "width": 0.5
             }
            },
            "type": "barpolar"
           }
          ],
          "carpet": [
           {
            "aaxis": {
             "endlinecolor": "#A2B1C6",
             "gridcolor": "#506784",
             "linecolor": "#506784",
             "minorgridcolor": "#506784",
             "startlinecolor": "#A2B1C6"
            },
            "baxis": {
             "endlinecolor": "#A2B1C6",
             "gridcolor": "#506784",
             "linecolor": "#506784",
             "minorgridcolor": "#506784",
             "startlinecolor": "#A2B1C6"
            },
            "type": "carpet"
           }
          ],
          "choropleth": [
           {
            "colorbar": {
             "outlinewidth": 0,
             "ticks": ""
            },
            "type": "choropleth"
           }
          ],
          "contour": [
           {
            "colorbar": {
             "outlinewidth": 0,
             "ticks": ""
            },
            "colorscale": [
             [
              0,
              "#0d0887"
             ],
             [
              0.1111111111111111,
              "#46039f"
             ],
             [
              0.2222222222222222,
              "#7201a8"
             ],
             [
              0.3333333333333333,
              "#9c179e"
             ],
             [
              0.4444444444444444,
              "#bd3786"
             ],
             [
              0.5555555555555556,
              "#d8576b"
             ],
             [
              0.6666666666666666,
              "#ed7953"
             ],
             [
              0.7777777777777778,
              "#fb9f3a"
             ],
             [
              0.8888888888888888,
              "#fdca26"
             ],
             [
              1,
              "#f0f921"
             ]
            ],
            "type": "contour"
           }
          ],
          "contourcarpet": [
           {
            "colorbar": {
             "outlinewidth": 0,
             "ticks": ""
            },
            "type": "contourcarpet"
           }
          ],
          "heatmap": [
           {
            "colorbar": {
             "outlinewidth": 0,
             "ticks": ""
            },
            "colorscale": [
             [
              0,
              "#0d0887"
             ],
             [
              0.1111111111111111,
              "#46039f"
             ],
             [
              0.2222222222222222,
              "#7201a8"
             ],
             [
              0.3333333333333333,
              "#9c179e"
             ],
             [
              0.4444444444444444,
              "#bd3786"
             ],
             [
              0.5555555555555556,
              "#d8576b"
             ],
             [
              0.6666666666666666,
              "#ed7953"
             ],
             [
              0.7777777777777778,
              "#fb9f3a"
             ],
             [
              0.8888888888888888,
              "#fdca26"
             ],
             [
              1,
              "#f0f921"
             ]
            ],
            "type": "heatmap"
           }
          ],
          "heatmapgl": [
           {
            "colorbar": {
             "outlinewidth": 0,
             "ticks": ""
            },
            "colorscale": [
             [
              0,
              "#0d0887"
             ],
             [
              0.1111111111111111,
              "#46039f"
             ],
             [
              0.2222222222222222,
              "#7201a8"
             ],
             [
              0.3333333333333333,
              "#9c179e"
             ],
             [
              0.4444444444444444,
              "#bd3786"
             ],
             [
              0.5555555555555556,
              "#d8576b"
             ],
             [
              0.6666666666666666,
              "#ed7953"
             ],
             [
              0.7777777777777778,
              "#fb9f3a"
             ],
             [
              0.8888888888888888,
              "#fdca26"
             ],
             [
              1,
              "#f0f921"
             ]
            ],
            "type": "heatmapgl"
           }
          ],
          "histogram": [
           {
            "marker": {
             "colorbar": {
              "outlinewidth": 0,
              "ticks": ""
             }
            },
            "type": "histogram"
           }
          ],
          "histogram2d": [
           {
            "colorbar": {
             "outlinewidth": 0,
             "ticks": ""
            },
            "colorscale": [
             [
              0,
              "#0d0887"
             ],
             [
              0.1111111111111111,
              "#46039f"
             ],
             [
              0.2222222222222222,
              "#7201a8"
             ],
             [
              0.3333333333333333,
              "#9c179e"
             ],
             [
              0.4444444444444444,
              "#bd3786"
             ],
             [
              0.5555555555555556,
              "#d8576b"
             ],
             [
              0.6666666666666666,
              "#ed7953"
             ],
             [
              0.7777777777777778,
              "#fb9f3a"
             ],
             [
              0.8888888888888888,
              "#fdca26"
             ],
             [
              1,
              "#f0f921"
             ]
            ],
            "type": "histogram2d"
           }
          ],
          "histogram2dcontour": [
           {
            "colorbar": {
             "outlinewidth": 0,
             "ticks": ""
            },
            "colorscale": [
             [
              0,
              "#0d0887"
             ],
             [
              0.1111111111111111,
              "#46039f"
             ],
             [
              0.2222222222222222,
              "#7201a8"
             ],
             [
              0.3333333333333333,
              "#9c179e"
             ],
             [
              0.4444444444444444,
              "#bd3786"
             ],
             [
              0.5555555555555556,
              "#d8576b"
             ],
             [
              0.6666666666666666,
              "#ed7953"
             ],
             [
              0.7777777777777778,
              "#fb9f3a"
             ],
             [
              0.8888888888888888,
              "#fdca26"
             ],
             [
              1,
              "#f0f921"
             ]
            ],
            "type": "histogram2dcontour"
           }
          ],
          "mesh3d": [
           {
            "colorbar": {
             "outlinewidth": 0,
             "ticks": ""
            },
            "type": "mesh3d"
           }
          ],
          "parcoords": [
           {
            "line": {
             "colorbar": {
              "outlinewidth": 0,
              "ticks": ""
             }
            },
            "type": "parcoords"
           }
          ],
          "scatter": [
           {
            "marker": {
             "line": {
              "color": "#283442"
             }
            },
            "type": "scatter"
           }
          ],
          "scatter3d": [
           {
            "line": {
             "colorbar": {
              "outlinewidth": 0,
              "ticks": ""
             }
            },
            "marker": {
             "colorbar": {
              "outlinewidth": 0,
              "ticks": ""
             }
            },
            "type": "scatter3d"
           }
          ],
          "scattercarpet": [
           {
            "marker": {
             "colorbar": {
              "outlinewidth": 0,
              "ticks": ""
             }
            },
            "type": "scattercarpet"
           }
          ],
          "scattergeo": [
           {
            "marker": {
             "colorbar": {
              "outlinewidth": 0,
              "ticks": ""
             }
            },
            "type": "scattergeo"
           }
          ],
          "scattergl": [
           {
            "marker": {
             "line": {
              "color": "#283442"
             }
            },
            "type": "scattergl"
           }
          ],
          "scattermapbox": [
           {
            "marker": {
             "colorbar": {
              "outlinewidth": 0,
              "ticks": ""
             }
            },
            "type": "scattermapbox"
           }
          ],
          "scatterpolar": [
           {
            "marker": {
             "colorbar": {
              "outlinewidth": 0,
              "ticks": ""
             }
            },
            "type": "scatterpolar"
           }
          ],
          "scatterpolargl": [
           {
            "marker": {
             "colorbar": {
              "outlinewidth": 0,
              "ticks": ""
             }
            },
            "type": "scatterpolargl"
           }
          ],
          "scatterternary": [
           {
            "marker": {
             "colorbar": {
              "outlinewidth": 0,
              "ticks": ""
             }
            },
            "type": "scatterternary"
           }
          ],
          "surface": [
           {
            "colorbar": {
             "outlinewidth": 0,
             "ticks": ""
            },
            "colorscale": [
             [
              0,
              "#0d0887"
             ],
             [
              0.1111111111111111,
              "#46039f"
             ],
             [
              0.2222222222222222,
              "#7201a8"
             ],
             [
              0.3333333333333333,
              "#9c179e"
             ],
             [
              0.4444444444444444,
              "#bd3786"
             ],
             [
              0.5555555555555556,
              "#d8576b"
             ],
             [
              0.6666666666666666,
              "#ed7953"
             ],
             [
              0.7777777777777778,
              "#fb9f3a"
             ],
             [
              0.8888888888888888,
              "#fdca26"
             ],
             [
              1,
              "#f0f921"
             ]
            ],
            "type": "surface"
           }
          ],
          "table": [
           {
            "cells": {
             "fill": {
              "color": "#506784"
             },
             "line": {
              "color": "rgb(17,17,17)"
             }
            },
            "header": {
             "fill": {
              "color": "#2a3f5f"
             },
             "line": {
              "color": "rgb(17,17,17)"
             }
            },
            "type": "table"
           }
          ]
         },
         "layout": {
          "annotationdefaults": {
           "arrowcolor": "#f2f5fa",
           "arrowhead": 0,
           "arrowwidth": 1
          },
          "colorscale": {
           "diverging": [
            [
             0,
             "#8e0152"
            ],
            [
             0.1,
             "#c51b7d"
            ],
            [
             0.2,
             "#de77ae"
            ],
            [
             0.3,
             "#f1b6da"
            ],
            [
             0.4,
             "#fde0ef"
            ],
            [
             0.5,
             "#f7f7f7"
            ],
            [
             0.6,
             "#e6f5d0"
            ],
            [
             0.7,
             "#b8e186"
            ],
            [
             0.8,
             "#7fbc41"
            ],
            [
             0.9,
             "#4d9221"
            ],
            [
             1,
             "#276419"
            ]
           ],
           "sequential": [
            [
             0,
             "#0d0887"
            ],
            [
             0.1111111111111111,
             "#46039f"
            ],
            [
             0.2222222222222222,
             "#7201a8"
            ],
            [
             0.3333333333333333,
             "#9c179e"
            ],
            [
             0.4444444444444444,
             "#bd3786"
            ],
            [
             0.5555555555555556,
             "#d8576b"
            ],
            [
             0.6666666666666666,
             "#ed7953"
            ],
            [
             0.7777777777777778,
             "#fb9f3a"
            ],
            [
             0.8888888888888888,
             "#fdca26"
            ],
            [
             1,
             "#f0f921"
            ]
           ],
           "sequentialminus": [
            [
             0,
             "#0d0887"
            ],
            [
             0.1111111111111111,
             "#46039f"
            ],
            [
             0.2222222222222222,
             "#7201a8"
            ],
            [
             0.3333333333333333,
             "#9c179e"
            ],
            [
             0.4444444444444444,
             "#bd3786"
            ],
            [
             0.5555555555555556,
             "#d8576b"
            ],
            [
             0.6666666666666666,
             "#ed7953"
            ],
            [
             0.7777777777777778,
             "#fb9f3a"
            ],
            [
             0.8888888888888888,
             "#fdca26"
            ],
            [
             1,
             "#f0f921"
            ]
           ]
          },
          "colorway": [
           "#636efa",
           "#EF553B",
           "#00cc96",
           "#ab63fa",
           "#FFA15A",
           "#19d3f3",
           "#FF6692",
           "#B6E880",
           "#FF97FF",
           "#FECB52"
          ],
          "font": {
           "color": "#f2f5fa"
          },
          "geo": {
           "bgcolor": "rgb(17,17,17)",
           "lakecolor": "rgb(17,17,17)",
           "landcolor": "rgb(17,17,17)",
           "showlakes": true,
           "showland": true,
           "subunitcolor": "#506784"
          },
          "hoverlabel": {
           "align": "left"
          },
          "hovermode": "closest",
          "mapbox": {
           "style": "dark"
          },
          "paper_bgcolor": "rgb(17,17,17)",
          "plot_bgcolor": "rgb(17,17,17)",
          "polar": {
           "angularaxis": {
            "gridcolor": "#506784",
            "linecolor": "#506784",
            "ticks": ""
           },
           "bgcolor": "rgb(17,17,17)",
           "radialaxis": {
            "gridcolor": "#506784",
            "linecolor": "#506784",
            "ticks": ""
           }
          },
          "scene": {
           "xaxis": {
            "backgroundcolor": "rgb(17,17,17)",
            "gridcolor": "#506784",
            "gridwidth": 2,
            "linecolor": "#506784",
            "showbackground": true,
            "ticks": "",
            "zerolinecolor": "#C8D4E3"
           },
           "yaxis": {
            "backgroundcolor": "rgb(17,17,17)",
            "gridcolor": "#506784",
            "gridwidth": 2,
            "linecolor": "#506784",
            "showbackground": true,
            "ticks": "",
            "zerolinecolor": "#C8D4E3"
           },
           "zaxis": {
            "backgroundcolor": "rgb(17,17,17)",
            "gridcolor": "#506784",
            "gridwidth": 2,
            "linecolor": "#506784",
            "showbackground": true,
            "ticks": "",
            "zerolinecolor": "#C8D4E3"
           }
          },
          "shapedefaults": {
           "line": {
            "color": "#f2f5fa"
           }
          },
          "sliderdefaults": {
           "bgcolor": "#C8D4E3",
           "bordercolor": "rgb(17,17,17)",
           "borderwidth": 1,
           "tickwidth": 0
          },
          "ternary": {
           "aaxis": {
            "gridcolor": "#506784",
            "linecolor": "#506784",
            "ticks": ""
           },
           "baxis": {
            "gridcolor": "#506784",
            "linecolor": "#506784",
            "ticks": ""
           },
           "bgcolor": "rgb(17,17,17)",
           "caxis": {
            "gridcolor": "#506784",
            "linecolor": "#506784",
            "ticks": ""
           }
          },
          "title": {
           "x": 0.05
          },
          "updatemenudefaults": {
           "bgcolor": "#506784",
           "borderwidth": 0
          },
          "xaxis": {
           "automargin": true,
           "gridcolor": "#283442",
           "linecolor": "#506784",
           "ticks": "",
           "zerolinecolor": "#283442",
           "zerolinewidth": 2
          },
          "yaxis": {
           "automargin": true,
           "gridcolor": "#283442",
           "linecolor": "#506784",
           "ticks": "",
           "zerolinecolor": "#283442",
           "zerolinewidth": 2
          }
         }
        }
       }
      },
      "text/html": [
       "<div>\n",
       "        \n",
       "        \n",
       "            <div id=\"ba345574-961f-4d4f-a686-c923f92e7cef\" class=\"plotly-graph-div\" style=\"height:600px; width:100%;\"></div>\n",
       "            <script type=\"text/javascript\">\n",
       "                require([\"plotly\"], function(Plotly) {\n",
       "                    window.PLOTLYENV=window.PLOTLYENV || {};\n",
       "                    \n",
       "                if (document.getElementById(\"ba345574-961f-4d4f-a686-c923f92e7cef\")) {\n",
       "                    Plotly.newPlot(\n",
       "                        'ba345574-961f-4d4f-a686-c923f92e7cef',\n",
       "                        [{\"hoverlabel\": {\"namelength\": 0}, \"hovertemplate\": \"strength=0-1<br>frequency=%{r}<br>direction=%{theta}\", \"legendgroup\": \"strength=0-1\", \"marker\": {\"color\": \"#fdca26\"}, \"name\": \"strength=0-1\", \"r\": [0.5, 0.6, 0.5, 0.4, 0.4, 0.3, 0.4, 0.4, 0.6, 0.4, 0.5, 0.6, 0.6, 0.5, 0.4, 0.1], \"showlegend\": true, \"subplot\": \"polar\", \"theta\": [\"N\", \"NNE\", \"NE\", \"ENE\", \"E\", \"ESE\", \"SE\", \"SSE\", \"S\", \"SSW\", \"SW\", \"WSW\", \"W\", \"WNW\", \"NW\", \"NNW\"], \"type\": \"barpolar\"}, {\"hoverlabel\": {\"namelength\": 0}, \"hovertemplate\": \"strength=1-2<br>frequency=%{r}<br>direction=%{theta}\", \"legendgroup\": \"strength=1-2\", \"marker\": {\"color\": \"#fb9f3a\"}, \"name\": \"strength=1-2\", \"r\": [1.6, 1.8, 1.5, 1.6, 1.6, 1.2, 1.5, 1.7, 2.2, 2.0, 2.3, 2.4, 2.3, 2.6, 2.3, 0.8], \"showlegend\": true, \"subplot\": \"polar\", \"theta\": [\"N\", \"NNE\", \"NE\", \"ENE\", \"E\", \"ESE\", \"SE\", \"SSE\", \"S\", \"SSW\", \"SW\", \"WSW\", \"W\", \"WNW\", \"NW\", \"NNW\"], \"type\": \"barpolar\"}, {\"hoverlabel\": {\"namelength\": 0}, \"hovertemplate\": \"strength=2-3<br>frequency=%{r}<br>direction=%{theta}\", \"legendgroup\": \"strength=2-3\", \"marker\": {\"color\": \"#ed7953\"}, \"name\": \"strength=2-3\", \"r\": [0.9, 1.3, 1.6, 0.9, 1.0, 0.6, 0.6, 0.9, 1.4, 1.7, 1.9, 2.2, 1.8, 1.7, 1.8, 0.8], \"showlegend\": true, \"subplot\": \"polar\", \"theta\": [\"N\", \"NNE\", \"NE\", \"ENE\", \"E\", \"ESE\", \"SE\", \"SSE\", \"S\", \"SSW\", \"SW\", \"WSW\", \"W\", \"WNW\", \"NW\", \"NNW\"], \"type\": \"barpolar\"}, {\"hoverlabel\": {\"namelength\": 0}, \"hovertemplate\": \"strength=3-4<br>frequency=%{r}<br>direction=%{theta}\", \"legendgroup\": \"strength=3-4\", \"marker\": {\"color\": \"#d8576b\"}, \"name\": \"strength=3-4\", \"r\": [0.9, 0.8, 1.2, 1.0, 0.8, 0.4, 0.5, 0.5, 0.8, 0.9, 1.3, 1.1, 1.2, 1.2, 1.3, 1.0], \"showlegend\": true, \"subplot\": \"polar\", \"theta\": [\"N\", \"NNE\", \"NE\", \"ENE\", \"E\", \"ESE\", \"SE\", \"SSE\", \"S\", \"SSW\", \"SW\", \"WSW\", \"W\", \"WNW\", \"NW\", \"NNW\"], \"type\": \"barpolar\"}, {\"hoverlabel\": {\"namelength\": 0}, \"hovertemplate\": \"strength=4-4<br>frequency=%{r}<br>direction=%{theta}\", \"legendgroup\": \"strength=4-4\", \"marker\": {\"color\": \"#bd3786\"}, \"name\": \"strength=4-4\", \"r\": [0.4, 0.5, 1.2, 0.5, 0.4, 0.2, 0.4, 0.4, 0.7, 0.6, 0.7, 0.8, 0.9, 1.0, 1.0, 0.7], \"showlegend\": true, \"subplot\": \"polar\", \"theta\": [\"N\", \"NNE\", \"NE\", \"ENE\", \"E\", \"ESE\", \"SE\", \"SSE\", \"S\", \"SSW\", \"SW\", \"WSW\", \"W\", \"WNW\", \"NW\", \"NNW\"], \"type\": \"barpolar\"}, {\"hoverlabel\": {\"namelength\": 0}, \"hovertemplate\": \"strength=4-5<br>frequency=%{r}<br>direction=%{theta}\", \"legendgroup\": \"strength=4-5\", \"marker\": {\"color\": \"#9c179e\"}, \"name\": \"strength=4-5\", \"r\": [0.3, 0.3, 0.6, 0.2, 0.1, 0.1, 0.05, 0.1, 0.1, 0.2, 0.3, 0.4, 0.9, 0.9, 0.9, 0.3], \"showlegend\": true, \"subplot\": \"polar\", \"theta\": [\"N\", \"NNE\", \"NE\", \"ENE\", \"E\", \"ESE\", \"SE\", \"SSE\", \"S\", \"SSW\", \"SW\", \"WSW\", \"W\", \"WNW\", \"NW\", \"NNW\"], \"type\": \"barpolar\"}, {\"hoverlabel\": {\"namelength\": 0}, \"hovertemplate\": \"strength=5-6<br>frequency=%{r}<br>direction=%{theta}\", \"legendgroup\": \"strength=5-6\", \"marker\": {\"color\": \"#7201a8\"}, \"name\": \"strength=5-6\", \"r\": [0.2, 0.1, 0.1, 0.1, 0.1, 0.1, 0.05, 0.05, 0.1, 0.05, 0.2, 0.2, 0.4, 0.7, 0.7, 0.4], \"showlegend\": true, \"subplot\": \"polar\", \"theta\": [\"N\", \"NNE\", \"NE\", \"ENE\", \"E\", \"ESE\", \"SE\", \"SSE\", \"S\", \"SSW\", \"SW\", \"WSW\", \"W\", \"WNW\", \"NW\", \"NNW\"], \"type\": \"barpolar\"}, {\"hoverlabel\": {\"namelength\": 0}, \"hovertemplate\": \"strength=6+<br>frequency=%{r}<br>direction=%{theta}\", \"legendgroup\": \"strength=6+\", \"marker\": {\"color\": \"#46039f\"}, \"name\": \"strength=6+\", \"r\": [0.1, 0.1, 0.1, 0.1, 0.1, 0.05, 0.05, 0.05, 0.05, 0.1, 0.1, 0.1, 0.9, 2.2, 1.5, 0.2], \"showlegend\": true, \"subplot\": \"polar\", \"theta\": [\"N\", \"NNE\", \"NE\", \"ENE\", \"E\", \"ESE\", \"SE\", \"SSE\", \"S\", \"SSW\", \"SW\", \"WSW\", \"W\", \"WNW\", \"NW\", \"NNW\"], \"type\": \"barpolar\"}],\n",
       "                        {\"barmode\": \"relative\", \"barnorm\": \"\", \"height\": 600, \"legend\": {\"tracegroupgap\": 0}, \"margin\": {\"t\": 60}, \"polar\": {\"angularaxis\": {\"direction\": \"clockwise\", \"rotation\": 90}, \"domain\": {\"x\": [0.0, 0.98], \"y\": [0.0, 1.0]}}, \"template\": {\"data\": {\"bar\": [{\"error_x\": {\"color\": \"#f2f5fa\"}, \"error_y\": {\"color\": \"#f2f5fa\"}, \"marker\": {\"line\": {\"color\": \"rgb(17,17,17)\", \"width\": 0.5}}, \"type\": \"bar\"}], \"barpolar\": [{\"marker\": {\"line\": {\"color\": \"rgb(17,17,17)\", \"width\": 0.5}}, \"type\": \"barpolar\"}], \"carpet\": [{\"aaxis\": {\"endlinecolor\": \"#A2B1C6\", \"gridcolor\": \"#506784\", \"linecolor\": \"#506784\", \"minorgridcolor\": \"#506784\", \"startlinecolor\": \"#A2B1C6\"}, \"baxis\": {\"endlinecolor\": \"#A2B1C6\", \"gridcolor\": \"#506784\", \"linecolor\": \"#506784\", \"minorgridcolor\": \"#506784\", \"startlinecolor\": \"#A2B1C6\"}, \"type\": \"carpet\"}], \"choropleth\": [{\"colorbar\": {\"outlinewidth\": 0, \"ticks\": \"\"}, \"type\": \"choropleth\"}], \"contour\": [{\"colorbar\": {\"outlinewidth\": 0, \"ticks\": \"\"}, \"colorscale\": [[0.0, \"#0d0887\"], [0.1111111111111111, \"#46039f\"], [0.2222222222222222, \"#7201a8\"], [0.3333333333333333, \"#9c179e\"], [0.4444444444444444, \"#bd3786\"], [0.5555555555555556, \"#d8576b\"], [0.6666666666666666, \"#ed7953\"], [0.7777777777777778, \"#fb9f3a\"], [0.8888888888888888, \"#fdca26\"], [1.0, \"#f0f921\"]], \"type\": \"contour\"}], \"contourcarpet\": [{\"colorbar\": {\"outlinewidth\": 0, \"ticks\": \"\"}, \"type\": \"contourcarpet\"}], \"heatmap\": [{\"colorbar\": {\"outlinewidth\": 0, \"ticks\": \"\"}, \"colorscale\": [[0.0, \"#0d0887\"], [0.1111111111111111, \"#46039f\"], [0.2222222222222222, \"#7201a8\"], [0.3333333333333333, \"#9c179e\"], [0.4444444444444444, \"#bd3786\"], [0.5555555555555556, \"#d8576b\"], [0.6666666666666666, \"#ed7953\"], [0.7777777777777778, \"#fb9f3a\"], [0.8888888888888888, \"#fdca26\"], [1.0, \"#f0f921\"]], \"type\": \"heatmap\"}], \"heatmapgl\": [{\"colorbar\": {\"outlinewidth\": 0, \"ticks\": \"\"}, \"colorscale\": [[0.0, \"#0d0887\"], [0.1111111111111111, \"#46039f\"], [0.2222222222222222, \"#7201a8\"], [0.3333333333333333, \"#9c179e\"], [0.4444444444444444, \"#bd3786\"], [0.5555555555555556, \"#d8576b\"], [0.6666666666666666, \"#ed7953\"], [0.7777777777777778, \"#fb9f3a\"], [0.8888888888888888, \"#fdca26\"], [1.0, \"#f0f921\"]], \"type\": \"heatmapgl\"}], \"histogram\": [{\"marker\": {\"colorbar\": {\"outlinewidth\": 0, \"ticks\": \"\"}}, \"type\": \"histogram\"}], \"histogram2d\": [{\"colorbar\": {\"outlinewidth\": 0, \"ticks\": \"\"}, \"colorscale\": [[0.0, \"#0d0887\"], [0.1111111111111111, \"#46039f\"], [0.2222222222222222, \"#7201a8\"], [0.3333333333333333, \"#9c179e\"], [0.4444444444444444, \"#bd3786\"], [0.5555555555555556, \"#d8576b\"], [0.6666666666666666, \"#ed7953\"], [0.7777777777777778, \"#fb9f3a\"], [0.8888888888888888, \"#fdca26\"], [1.0, \"#f0f921\"]], \"type\": \"histogram2d\"}], \"histogram2dcontour\": [{\"colorbar\": {\"outlinewidth\": 0, \"ticks\": \"\"}, \"colorscale\": [[0.0, \"#0d0887\"], [0.1111111111111111, \"#46039f\"], [0.2222222222222222, \"#7201a8\"], [0.3333333333333333, \"#9c179e\"], [0.4444444444444444, \"#bd3786\"], [0.5555555555555556, \"#d8576b\"], [0.6666666666666666, \"#ed7953\"], [0.7777777777777778, \"#fb9f3a\"], [0.8888888888888888, \"#fdca26\"], [1.0, \"#f0f921\"]], \"type\": \"histogram2dcontour\"}], \"mesh3d\": [{\"colorbar\": {\"outlinewidth\": 0, \"ticks\": \"\"}, \"type\": \"mesh3d\"}], \"parcoords\": [{\"line\": {\"colorbar\": {\"outlinewidth\": 0, \"ticks\": \"\"}}, \"type\": \"parcoords\"}], \"scatter\": [{\"marker\": {\"line\": {\"color\": \"#283442\"}}, \"type\": \"scatter\"}], \"scatter3d\": [{\"line\": {\"colorbar\": {\"outlinewidth\": 0, \"ticks\": \"\"}}, \"marker\": {\"colorbar\": {\"outlinewidth\": 0, \"ticks\": \"\"}}, \"type\": \"scatter3d\"}], \"scattercarpet\": [{\"marker\": {\"colorbar\": {\"outlinewidth\": 0, \"ticks\": \"\"}}, \"type\": \"scattercarpet\"}], \"scattergeo\": [{\"marker\": {\"colorbar\": {\"outlinewidth\": 0, \"ticks\": \"\"}}, \"type\": \"scattergeo\"}], \"scattergl\": [{\"marker\": {\"line\": {\"color\": \"#283442\"}}, \"type\": \"scattergl\"}], \"scattermapbox\": [{\"marker\": {\"colorbar\": {\"outlinewidth\": 0, \"ticks\": \"\"}}, \"type\": \"scattermapbox\"}], \"scatterpolar\": [{\"marker\": {\"colorbar\": {\"outlinewidth\": 0, \"ticks\": \"\"}}, \"type\": \"scatterpolar\"}], \"scatterpolargl\": [{\"marker\": {\"colorbar\": {\"outlinewidth\": 0, \"ticks\": \"\"}}, \"type\": \"scatterpolargl\"}], \"scatterternary\": [{\"marker\": {\"colorbar\": {\"outlinewidth\": 0, \"ticks\": \"\"}}, \"type\": \"scatterternary\"}], \"surface\": [{\"colorbar\": {\"outlinewidth\": 0, \"ticks\": \"\"}, \"colorscale\": [[0.0, \"#0d0887\"], [0.1111111111111111, \"#46039f\"], [0.2222222222222222, \"#7201a8\"], [0.3333333333333333, \"#9c179e\"], [0.4444444444444444, \"#bd3786\"], [0.5555555555555556, \"#d8576b\"], [0.6666666666666666, \"#ed7953\"], [0.7777777777777778, \"#fb9f3a\"], [0.8888888888888888, \"#fdca26\"], [1.0, \"#f0f921\"]], \"type\": \"surface\"}], \"table\": [{\"cells\": {\"fill\": {\"color\": \"#506784\"}, \"line\": {\"color\": \"rgb(17,17,17)\"}}, \"header\": {\"fill\": {\"color\": \"#2a3f5f\"}, \"line\": {\"color\": \"rgb(17,17,17)\"}}, \"type\": \"table\"}]}, \"layout\": {\"annotationdefaults\": {\"arrowcolor\": \"#f2f5fa\", \"arrowhead\": 0, \"arrowwidth\": 1}, \"colorscale\": {\"diverging\": [[0, \"#8e0152\"], [0.1, \"#c51b7d\"], [0.2, \"#de77ae\"], [0.3, \"#f1b6da\"], [0.4, \"#fde0ef\"], [0.5, \"#f7f7f7\"], [0.6, \"#e6f5d0\"], [0.7, \"#b8e186\"], [0.8, \"#7fbc41\"], [0.9, \"#4d9221\"], [1, \"#276419\"]], \"sequential\": [[0.0, \"#0d0887\"], [0.1111111111111111, \"#46039f\"], [0.2222222222222222, \"#7201a8\"], [0.3333333333333333, \"#9c179e\"], [0.4444444444444444, \"#bd3786\"], [0.5555555555555556, \"#d8576b\"], [0.6666666666666666, \"#ed7953\"], [0.7777777777777778, \"#fb9f3a\"], [0.8888888888888888, \"#fdca26\"], [1.0, \"#f0f921\"]], \"sequentialminus\": [[0.0, \"#0d0887\"], [0.1111111111111111, \"#46039f\"], [0.2222222222222222, \"#7201a8\"], [0.3333333333333333, \"#9c179e\"], [0.4444444444444444, \"#bd3786\"], [0.5555555555555556, \"#d8576b\"], [0.6666666666666666, \"#ed7953\"], [0.7777777777777778, \"#fb9f3a\"], [0.8888888888888888, \"#fdca26\"], [1.0, \"#f0f921\"]]}, \"colorway\": [\"#636efa\", \"#EF553B\", \"#00cc96\", \"#ab63fa\", \"#FFA15A\", \"#19d3f3\", \"#FF6692\", \"#B6E880\", \"#FF97FF\", \"#FECB52\"], \"font\": {\"color\": \"#f2f5fa\"}, \"geo\": {\"bgcolor\": \"rgb(17,17,17)\", \"lakecolor\": \"rgb(17,17,17)\", \"landcolor\": \"rgb(17,17,17)\", \"showlakes\": true, \"showland\": true, \"subunitcolor\": \"#506784\"}, \"hoverlabel\": {\"align\": \"left\"}, \"hovermode\": \"closest\", \"mapbox\": {\"style\": \"dark\"}, \"paper_bgcolor\": \"rgb(17,17,17)\", \"plot_bgcolor\": \"rgb(17,17,17)\", \"polar\": {\"angularaxis\": {\"gridcolor\": \"#506784\", \"linecolor\": \"#506784\", \"ticks\": \"\"}, \"bgcolor\": \"rgb(17,17,17)\", \"radialaxis\": {\"gridcolor\": \"#506784\", \"linecolor\": \"#506784\", \"ticks\": \"\"}}, \"scene\": {\"xaxis\": {\"backgroundcolor\": \"rgb(17,17,17)\", \"gridcolor\": \"#506784\", \"gridwidth\": 2, \"linecolor\": \"#506784\", \"showbackground\": true, \"ticks\": \"\", \"zerolinecolor\": \"#C8D4E3\"}, \"yaxis\": {\"backgroundcolor\": \"rgb(17,17,17)\", \"gridcolor\": \"#506784\", \"gridwidth\": 2, \"linecolor\": \"#506784\", \"showbackground\": true, \"ticks\": \"\", \"zerolinecolor\": \"#C8D4E3\"}, \"zaxis\": {\"backgroundcolor\": \"rgb(17,17,17)\", \"gridcolor\": \"#506784\", \"gridwidth\": 2, \"linecolor\": \"#506784\", \"showbackground\": true, \"ticks\": \"\", \"zerolinecolor\": \"#C8D4E3\"}}, \"shapedefaults\": {\"line\": {\"color\": \"#f2f5fa\"}}, \"sliderdefaults\": {\"bgcolor\": \"#C8D4E3\", \"bordercolor\": \"rgb(17,17,17)\", \"borderwidth\": 1, \"tickwidth\": 0}, \"ternary\": {\"aaxis\": {\"gridcolor\": \"#506784\", \"linecolor\": \"#506784\", \"ticks\": \"\"}, \"baxis\": {\"gridcolor\": \"#506784\", \"linecolor\": \"#506784\", \"ticks\": \"\"}, \"bgcolor\": \"rgb(17,17,17)\", \"caxis\": {\"gridcolor\": \"#506784\", \"linecolor\": \"#506784\", \"ticks\": \"\"}}, \"title\": {\"x\": 0.05}, \"updatemenudefaults\": {\"bgcolor\": \"#506784\", \"borderwidth\": 0}, \"xaxis\": {\"automargin\": true, \"gridcolor\": \"#283442\", \"linecolor\": \"#506784\", \"ticks\": \"\", \"zerolinecolor\": \"#283442\", \"zerolinewidth\": 2}, \"yaxis\": {\"automargin\": true, \"gridcolor\": \"#283442\", \"linecolor\": \"#506784\", \"ticks\": \"\", \"zerolinecolor\": \"#283442\", \"zerolinewidth\": 2}}}},\n",
       "                        {\"responsive\": true}\n",
       "                    ).then(function(){\n",
       "                            \n",
       "var gd = document.getElementById('ba345574-961f-4d4f-a686-c923f92e7cef');\n",
       "var x = new MutationObserver(function (mutations, observer) {{\n",
       "        var display = window.getComputedStyle(gd).display;\n",
       "        if (!display || display === 'none') {{\n",
       "            console.log([gd, 'removed!']);\n",
       "            Plotly.purge(gd);\n",
       "            observer.disconnect();\n",
       "        }}\n",
       "}});\n",
       "\n",
       "// Listen for the removal of the full notebook cells\n",
       "var notebookContainer = gd.closest('#notebook-container');\n",
       "if (notebookContainer) {{\n",
       "    x.observe(notebookContainer, {childList: true});\n",
       "}}\n",
       "\n",
       "// Listen for the clearing of the current output cell\n",
       "var outputEl = gd.closest('.output');\n",
       "if (outputEl) {{\n",
       "    x.observe(outputEl, {childList: true});\n",
       "}}\n",
       "\n",
       "                        })\n",
       "                };\n",
       "                });\n",
       "            </script>\n",
       "        </div>"
      ]
     },
     "metadata": {},
     "output_type": "display_data"
    }
   ],
   "source": [
    "import plotly.express as px\n",
    "wind = px.data.wind()\n",
    "fig = px.bar_polar(wind, r=\"frequency\", theta=\"direction\", color=\"strength\", template=\"plotly_dark\",\n",
    "            color_discrete_sequence= px.colors.sequential.Plasma[-2::-1])\n",
    "fig.show()"
   ]
  },
  {
   "cell_type": "code",
   "execution_count": 67,
   "metadata": {
    "scrolled": true
   },
   "outputs": [
    {
     "data": {
      "text/html": [
       "<div>\n",
       "<style scoped>\n",
       "    .dataframe tbody tr th:only-of-type {\n",
       "        vertical-align: middle;\n",
       "    }\n",
       "\n",
       "    .dataframe tbody tr th {\n",
       "        vertical-align: top;\n",
       "    }\n",
       "\n",
       "    .dataframe thead th {\n",
       "        text-align: right;\n",
       "    }\n",
       "</style>\n",
       "<table border=\"1\" class=\"dataframe\">\n",
       "  <thead>\n",
       "    <tr style=\"text-align: right;\">\n",
       "      <th></th>\n",
       "      <th>direction</th>\n",
       "      <th>strength</th>\n",
       "      <th>frequency</th>\n",
       "    </tr>\n",
       "  </thead>\n",
       "  <tbody>\n",
       "    <tr>\n",
       "      <th>0</th>\n",
       "      <td>N</td>\n",
       "      <td>0-1</td>\n",
       "      <td>0.50</td>\n",
       "    </tr>\n",
       "    <tr>\n",
       "      <th>1</th>\n",
       "      <td>NNE</td>\n",
       "      <td>0-1</td>\n",
       "      <td>0.60</td>\n",
       "    </tr>\n",
       "    <tr>\n",
       "      <th>2</th>\n",
       "      <td>NE</td>\n",
       "      <td>0-1</td>\n",
       "      <td>0.50</td>\n",
       "    </tr>\n",
       "    <tr>\n",
       "      <th>3</th>\n",
       "      <td>ENE</td>\n",
       "      <td>0-1</td>\n",
       "      <td>0.40</td>\n",
       "    </tr>\n",
       "    <tr>\n",
       "      <th>4</th>\n",
       "      <td>E</td>\n",
       "      <td>0-1</td>\n",
       "      <td>0.40</td>\n",
       "    </tr>\n",
       "    <tr>\n",
       "      <th>5</th>\n",
       "      <td>ESE</td>\n",
       "      <td>0-1</td>\n",
       "      <td>0.30</td>\n",
       "    </tr>\n",
       "    <tr>\n",
       "      <th>6</th>\n",
       "      <td>SE</td>\n",
       "      <td>0-1</td>\n",
       "      <td>0.40</td>\n",
       "    </tr>\n",
       "    <tr>\n",
       "      <th>7</th>\n",
       "      <td>SSE</td>\n",
       "      <td>0-1</td>\n",
       "      <td>0.40</td>\n",
       "    </tr>\n",
       "    <tr>\n",
       "      <th>8</th>\n",
       "      <td>S</td>\n",
       "      <td>0-1</td>\n",
       "      <td>0.60</td>\n",
       "    </tr>\n",
       "    <tr>\n",
       "      <th>9</th>\n",
       "      <td>SSW</td>\n",
       "      <td>0-1</td>\n",
       "      <td>0.40</td>\n",
       "    </tr>\n",
       "    <tr>\n",
       "      <th>10</th>\n",
       "      <td>SW</td>\n",
       "      <td>0-1</td>\n",
       "      <td>0.50</td>\n",
       "    </tr>\n",
       "    <tr>\n",
       "      <th>11</th>\n",
       "      <td>WSW</td>\n",
       "      <td>0-1</td>\n",
       "      <td>0.60</td>\n",
       "    </tr>\n",
       "    <tr>\n",
       "      <th>12</th>\n",
       "      <td>W</td>\n",
       "      <td>0-1</td>\n",
       "      <td>0.60</td>\n",
       "    </tr>\n",
       "    <tr>\n",
       "      <th>13</th>\n",
       "      <td>WNW</td>\n",
       "      <td>0-1</td>\n",
       "      <td>0.50</td>\n",
       "    </tr>\n",
       "    <tr>\n",
       "      <th>14</th>\n",
       "      <td>NW</td>\n",
       "      <td>0-1</td>\n",
       "      <td>0.40</td>\n",
       "    </tr>\n",
       "    <tr>\n",
       "      <th>15</th>\n",
       "      <td>NNW</td>\n",
       "      <td>0-1</td>\n",
       "      <td>0.10</td>\n",
       "    </tr>\n",
       "    <tr>\n",
       "      <th>16</th>\n",
       "      <td>N</td>\n",
       "      <td>1-2</td>\n",
       "      <td>1.60</td>\n",
       "    </tr>\n",
       "    <tr>\n",
       "      <th>17</th>\n",
       "      <td>NNE</td>\n",
       "      <td>1-2</td>\n",
       "      <td>1.80</td>\n",
       "    </tr>\n",
       "    <tr>\n",
       "      <th>18</th>\n",
       "      <td>NE</td>\n",
       "      <td>1-2</td>\n",
       "      <td>1.50</td>\n",
       "    </tr>\n",
       "    <tr>\n",
       "      <th>19</th>\n",
       "      <td>ENE</td>\n",
       "      <td>1-2</td>\n",
       "      <td>1.60</td>\n",
       "    </tr>\n",
       "    <tr>\n",
       "      <th>20</th>\n",
       "      <td>E</td>\n",
       "      <td>1-2</td>\n",
       "      <td>1.60</td>\n",
       "    </tr>\n",
       "    <tr>\n",
       "      <th>21</th>\n",
       "      <td>ESE</td>\n",
       "      <td>1-2</td>\n",
       "      <td>1.20</td>\n",
       "    </tr>\n",
       "    <tr>\n",
       "      <th>22</th>\n",
       "      <td>SE</td>\n",
       "      <td>1-2</td>\n",
       "      <td>1.50</td>\n",
       "    </tr>\n",
       "    <tr>\n",
       "      <th>23</th>\n",
       "      <td>SSE</td>\n",
       "      <td>1-2</td>\n",
       "      <td>1.70</td>\n",
       "    </tr>\n",
       "    <tr>\n",
       "      <th>24</th>\n",
       "      <td>S</td>\n",
       "      <td>1-2</td>\n",
       "      <td>2.20</td>\n",
       "    </tr>\n",
       "    <tr>\n",
       "      <th>25</th>\n",
       "      <td>SSW</td>\n",
       "      <td>1-2</td>\n",
       "      <td>2.00</td>\n",
       "    </tr>\n",
       "    <tr>\n",
       "      <th>26</th>\n",
       "      <td>SW</td>\n",
       "      <td>1-2</td>\n",
       "      <td>2.30</td>\n",
       "    </tr>\n",
       "    <tr>\n",
       "      <th>27</th>\n",
       "      <td>WSW</td>\n",
       "      <td>1-2</td>\n",
       "      <td>2.40</td>\n",
       "    </tr>\n",
       "    <tr>\n",
       "      <th>28</th>\n",
       "      <td>W</td>\n",
       "      <td>1-2</td>\n",
       "      <td>2.30</td>\n",
       "    </tr>\n",
       "    <tr>\n",
       "      <th>29</th>\n",
       "      <td>WNW</td>\n",
       "      <td>1-2</td>\n",
       "      <td>2.60</td>\n",
       "    </tr>\n",
       "    <tr>\n",
       "      <th>...</th>\n",
       "      <td>...</td>\n",
       "      <td>...</td>\n",
       "      <td>...</td>\n",
       "    </tr>\n",
       "    <tr>\n",
       "      <th>98</th>\n",
       "      <td>NE</td>\n",
       "      <td>5-6</td>\n",
       "      <td>0.10</td>\n",
       "    </tr>\n",
       "    <tr>\n",
       "      <th>99</th>\n",
       "      <td>ENE</td>\n",
       "      <td>5-6</td>\n",
       "      <td>0.10</td>\n",
       "    </tr>\n",
       "    <tr>\n",
       "      <th>100</th>\n",
       "      <td>E</td>\n",
       "      <td>5-6</td>\n",
       "      <td>0.10</td>\n",
       "    </tr>\n",
       "    <tr>\n",
       "      <th>101</th>\n",
       "      <td>ESE</td>\n",
       "      <td>5-6</td>\n",
       "      <td>0.10</td>\n",
       "    </tr>\n",
       "    <tr>\n",
       "      <th>102</th>\n",
       "      <td>SE</td>\n",
       "      <td>5-6</td>\n",
       "      <td>0.05</td>\n",
       "    </tr>\n",
       "    <tr>\n",
       "      <th>103</th>\n",
       "      <td>SSE</td>\n",
       "      <td>5-6</td>\n",
       "      <td>0.05</td>\n",
       "    </tr>\n",
       "    <tr>\n",
       "      <th>104</th>\n",
       "      <td>S</td>\n",
       "      <td>5-6</td>\n",
       "      <td>0.10</td>\n",
       "    </tr>\n",
       "    <tr>\n",
       "      <th>105</th>\n",
       "      <td>SSW</td>\n",
       "      <td>5-6</td>\n",
       "      <td>0.05</td>\n",
       "    </tr>\n",
       "    <tr>\n",
       "      <th>106</th>\n",
       "      <td>SW</td>\n",
       "      <td>5-6</td>\n",
       "      <td>0.20</td>\n",
       "    </tr>\n",
       "    <tr>\n",
       "      <th>107</th>\n",
       "      <td>WSW</td>\n",
       "      <td>5-6</td>\n",
       "      <td>0.20</td>\n",
       "    </tr>\n",
       "    <tr>\n",
       "      <th>108</th>\n",
       "      <td>W</td>\n",
       "      <td>5-6</td>\n",
       "      <td>0.40</td>\n",
       "    </tr>\n",
       "    <tr>\n",
       "      <th>109</th>\n",
       "      <td>WNW</td>\n",
       "      <td>5-6</td>\n",
       "      <td>0.70</td>\n",
       "    </tr>\n",
       "    <tr>\n",
       "      <th>110</th>\n",
       "      <td>NW</td>\n",
       "      <td>5-6</td>\n",
       "      <td>0.70</td>\n",
       "    </tr>\n",
       "    <tr>\n",
       "      <th>111</th>\n",
       "      <td>NNW</td>\n",
       "      <td>5-6</td>\n",
       "      <td>0.40</td>\n",
       "    </tr>\n",
       "    <tr>\n",
       "      <th>112</th>\n",
       "      <td>N</td>\n",
       "      <td>6+</td>\n",
       "      <td>0.10</td>\n",
       "    </tr>\n",
       "    <tr>\n",
       "      <th>113</th>\n",
       "      <td>NNE</td>\n",
       "      <td>6+</td>\n",
       "      <td>0.10</td>\n",
       "    </tr>\n",
       "    <tr>\n",
       "      <th>114</th>\n",
       "      <td>NE</td>\n",
       "      <td>6+</td>\n",
       "      <td>0.10</td>\n",
       "    </tr>\n",
       "    <tr>\n",
       "      <th>115</th>\n",
       "      <td>ENE</td>\n",
       "      <td>6+</td>\n",
       "      <td>0.10</td>\n",
       "    </tr>\n",
       "    <tr>\n",
       "      <th>116</th>\n",
       "      <td>E</td>\n",
       "      <td>6+</td>\n",
       "      <td>0.10</td>\n",
       "    </tr>\n",
       "    <tr>\n",
       "      <th>117</th>\n",
       "      <td>ESE</td>\n",
       "      <td>6+</td>\n",
       "      <td>0.05</td>\n",
       "    </tr>\n",
       "    <tr>\n",
       "      <th>118</th>\n",
       "      <td>SE</td>\n",
       "      <td>6+</td>\n",
       "      <td>0.05</td>\n",
       "    </tr>\n",
       "    <tr>\n",
       "      <th>119</th>\n",
       "      <td>SSE</td>\n",
       "      <td>6+</td>\n",
       "      <td>0.05</td>\n",
       "    </tr>\n",
       "    <tr>\n",
       "      <th>120</th>\n",
       "      <td>S</td>\n",
       "      <td>6+</td>\n",
       "      <td>0.05</td>\n",
       "    </tr>\n",
       "    <tr>\n",
       "      <th>121</th>\n",
       "      <td>SSW</td>\n",
       "      <td>6+</td>\n",
       "      <td>0.10</td>\n",
       "    </tr>\n",
       "    <tr>\n",
       "      <th>122</th>\n",
       "      <td>SW</td>\n",
       "      <td>6+</td>\n",
       "      <td>0.10</td>\n",
       "    </tr>\n",
       "    <tr>\n",
       "      <th>123</th>\n",
       "      <td>WSW</td>\n",
       "      <td>6+</td>\n",
       "      <td>0.10</td>\n",
       "    </tr>\n",
       "    <tr>\n",
       "      <th>124</th>\n",
       "      <td>W</td>\n",
       "      <td>6+</td>\n",
       "      <td>0.90</td>\n",
       "    </tr>\n",
       "    <tr>\n",
       "      <th>125</th>\n",
       "      <td>WNW</td>\n",
       "      <td>6+</td>\n",
       "      <td>2.20</td>\n",
       "    </tr>\n",
       "    <tr>\n",
       "      <th>126</th>\n",
       "      <td>NW</td>\n",
       "      <td>6+</td>\n",
       "      <td>1.50</td>\n",
       "    </tr>\n",
       "    <tr>\n",
       "      <th>127</th>\n",
       "      <td>NNW</td>\n",
       "      <td>6+</td>\n",
       "      <td>0.20</td>\n",
       "    </tr>\n",
       "  </tbody>\n",
       "</table>\n",
       "<p>128 rows × 3 columns</p>\n",
       "</div>"
      ],
      "text/plain": [
       "    direction strength  frequency\n",
       "0           N      0-1        0.5\n",
       "1         NNE      0-1        0.6\n",
       "2          NE      0-1        0.5\n",
       "3         ENE      0-1        0.4\n",
       "4           E      0-1        0.4\n",
       "..        ...      ...        ...\n",
       "123       WSW       6+        0.1\n",
       "124         W       6+        0.9\n",
       "125       WNW       6+        2.2\n",
       "126        NW       6+        1.5\n",
       "127       NNW       6+        0.2\n",
       "\n",
       "[128 rows x 3 columns]"
      ]
     },
     "execution_count": 67,
     "metadata": {},
     "output_type": "execute_result"
    }
   ],
   "source": [
    "wind"
   ]
  },
  {
   "cell_type": "markdown",
   "metadata": {},
   "source": [
    "### Scale and fill NaN's with 0's cause that's most intuitive - NaN indicates 0 number of minutes or days"
   ]
  },
  {
   "cell_type": "code",
   "execution_count": 90,
   "metadata": {},
   "outputs": [],
   "source": [
    "import sklearn.preprocessing as skp\n",
    "import sklearn.model_selection as skm\n",
    "X = skp.StandardScaler().fit_transform(swipesmonth1702)\n",
    "\n",
    "X = np.nan_to_num(X, copy = True)"
   ]
  },
  {
   "cell_type": "markdown",
   "metadata": {},
   "source": [
    "## Kmeans"
   ]
  },
  {
   "cell_type": "code",
   "execution_count": 91,
   "metadata": {},
   "outputs": [
    {
     "data": {
      "text/plain": [
       "KMeans(algorithm='auto', copy_x=True, init='k-means++', max_iter=300,\n",
       "       n_clusters=5, n_init=4, n_jobs=None, precompute_distances='auto',\n",
       "       random_state=None, tol=0.0001, verbose=0)"
      ]
     },
     "execution_count": 91,
     "metadata": {},
     "output_type": "execute_result"
    }
   ],
   "source": [
    "from sklearn.cluster import KMeans\n",
    "from sklearn import cluster\n",
    "n_clusters = 5\n",
    "np.random.seed(97)\n",
    "k_means = cluster.KMeans(n_clusters=n_clusters, n_init=4)\n",
    "# The original X will still have the nan\n",
    "k_means.fit(X)"
   ]
  },
  {
   "cell_type": "markdown",
   "metadata": {},
   "source": [
    "Remember, `swipesmonth1702` is not scaled"
   ]
  },
  {
   "cell_type": "code",
   "execution_count": 92,
   "metadata": {},
   "outputs": [],
   "source": [
    "XLabels = k_means.labels_\n",
    "swipesmonth1702['kMeansLabels'] = XLabels"
   ]
  },
  {
   "cell_type": "code",
   "execution_count": 102,
   "metadata": {
    "collapsed": true
   },
   "outputs": [
    {
     "data": {
      "text/plain": [
       "<matplotlib.axes._subplots.AxesSubplot at 0x2a9bbcb2d30>"
      ]
     },
     "execution_count": 102,
     "metadata": {},
     "output_type": "execute_result"
    },
    {
     "data": {
      "image/png": "[encoded data removed]",
      "text/plain": [
       "<Figure size 432x288 with 1 Axes>"
      ]
     },
     "metadata": {
      "needs_background": "light"
     },
     "output_type": "display_data"
    }
   ],
   "source": [
    "sns.scatterplot(data = swipesmonth1702, x = 'duration_minutes', y = 'no_of_days', hue = 'kMeansLabels', palette = 'gist_rainbow')"
   ]
  },
  {
   "cell_type": "markdown",
   "metadata": {},
   "source": [
    "## Kmeans for duration only"
   ]
  },
  {
   "cell_type": "code",
   "execution_count": 103,
   "metadata": {},
   "outputs": [
    {
     "data": {
      "text/plain": [
       "KMeans(algorithm='auto', copy_x=True, init='k-means++', max_iter=300,\n",
       "       n_clusters=3, n_init=4, n_jobs=None, precompute_distances='auto',\n",
       "       random_state=None, tol=0.0001, verbose=0)"
      ]
     },
     "execution_count": 103,
     "metadata": {},
     "output_type": "execute_result"
    }
   ],
   "source": [
    "from sklearn.cluster import KMeans\n",
    "from sklearn import cluster\n",
    "n_clusters = 3\n",
    "np.random.seed(97)\n",
    "k_means = cluster.KMeans(n_clusters=n_clusters, n_init=4)\n",
    "# The original X will still have the nan\n",
    "X1 = np.array(a['Duration']).reshape(-1,1)\n",
    "k_means.fit(X1)"
   ]
  },
  {
   "cell_type": "code",
   "execution_count": 104,
   "metadata": {},
   "outputs": [],
   "source": [
    "X1Labels = k_means.labels_\n",
    "a['kMeansLabels'] = X1Labels"
   ]
  },
  {
   "cell_type": "code",
   "execution_count": 105,
   "metadata": {
    "collapsed": true
   },
   "outputs": [
    {
     "data": {
      "text/plain": [
       "<matplotlib.axes._subplots.AxesSubplot at 0x2a9ce623ef0>"
      ]
     },
     "execution_count": 105,
     "metadata": {},
     "output_type": "execute_result"
    },
    {
     "data": {
      "image/png": "[encoded data removed]",
      "text/plain": [
       "<Figure size 432x288 with 1 Axes>"
      ]
     },
     "metadata": {
      "needs_background": "light"
     },
     "output_type": "display_data"
    }
   ],
   "source": [
    "sns.scatterplot(data = a, x = 'Duration', y = 'Real Analysis III', hue = 'kMeansLabels', palette = 'gist_rainbow')"
   ]
  },
  {
   "cell_type": "markdown",
   "metadata": {},
   "source": [
    "### Scatterplot for marks vs duration coloured by residence"
   ]
  },
  {
   "cell_type": "code",
   "execution_count": 164,
   "metadata": {},
   "outputs": [
    {
     "data": {
      "text/html": [
       "<div>\n",
       "<style scoped>\n",
       "    .dataframe tbody tr th:only-of-type {\n",
       "        vertical-align: middle;\n",
       "    }\n",
       "\n",
       "    .dataframe tbody tr th {\n",
       "        vertical-align: top;\n",
       "    }\n",
       "\n",
       "    .dataframe thead th {\n",
       "        text-align: right;\n",
       "    }\n",
       "</style>\n",
       "<table border=\"1\" class=\"dataframe\">\n",
       "  <thead>\n",
       "    <tr style=\"text-align: right;\">\n",
       "      <th></th>\n",
       "      <th>Duration</th>\n",
       "      <th>Residence</th>\n",
       "      <th>Group Theory III</th>\n",
       "      <th>Leontief Systems III</th>\n",
       "      <th>Number Theory III</th>\n",
       "      <th>Coding and Cryptography III</th>\n",
       "      <th>Complex Analysis III</th>\n",
       "      <th>Real Analysis III</th>\n",
       "      <th>Rings and Fields III</th>\n",
       "      <th>Differential Geometry III</th>\n",
       "      <th>Topology III</th>\n",
       "    </tr>\n",
       "  </thead>\n",
       "  <tbody>\n",
       "    <tr>\n",
       "      <th>870702</th>\n",
       "      <td>7282.38</td>\n",
       "      <td>JCT</td>\n",
       "      <td>45.0</td>\n",
       "      <td>61.0</td>\n",
       "      <td>NaN</td>\n",
       "      <td>NaN</td>\n",
       "      <td>NaN</td>\n",
       "      <td>NaN</td>\n",
       "      <td>NaN</td>\n",
       "      <td>NaN</td>\n",
       "      <td>NaN</td>\n",
       "    </tr>\n",
       "    <tr>\n",
       "      <th>795009</th>\n",
       "      <td>1188.60</td>\n",
       "      <td>Not In Residence</td>\n",
       "      <td>46.0</td>\n",
       "      <td>50.0</td>\n",
       "      <td>55.0</td>\n",
       "      <td>72.0</td>\n",
       "      <td>60.0</td>\n",
       "      <td>26.0</td>\n",
       "      <td>NaN</td>\n",
       "      <td>NaN</td>\n",
       "      <td>NaN</td>\n",
       "    </tr>\n",
       "    <tr>\n",
       "      <th>1425583</th>\n",
       "      <td>5733.33</td>\n",
       "      <td>Not In Residence</td>\n",
       "      <td>NaN</td>\n",
       "      <td>60.0</td>\n",
       "      <td>78.0</td>\n",
       "      <td>63.0</td>\n",
       "      <td>NaN</td>\n",
       "      <td>NaN</td>\n",
       "      <td>NaN</td>\n",
       "      <td>NaN</td>\n",
       "      <td>NaN</td>\n",
       "    </tr>\n",
       "    <tr>\n",
       "      <th>835527</th>\n",
       "      <td>2429.28</td>\n",
       "      <td>REN</td>\n",
       "      <td>61.0</td>\n",
       "      <td>65.0</td>\n",
       "      <td>61.0</td>\n",
       "      <td>76.0</td>\n",
       "      <td>80.0</td>\n",
       "      <td>44.0</td>\n",
       "      <td>NaN</td>\n",
       "      <td>NaN</td>\n",
       "      <td>NaN</td>\n",
       "    </tr>\n",
       "    <tr>\n",
       "      <th>1126582</th>\n",
       "      <td>18092.29</td>\n",
       "      <td>REI</td>\n",
       "      <td>78.0</td>\n",
       "      <td>70.0</td>\n",
       "      <td>78.0</td>\n",
       "      <td>80.0</td>\n",
       "      <td>80.0</td>\n",
       "      <td>55.0</td>\n",
       "      <td>NaN</td>\n",
       "      <td>NaN</td>\n",
       "      <td>NaN</td>\n",
       "    </tr>\n",
       "    <tr>\n",
       "      <th>805616</th>\n",
       "      <td>1259.59</td>\n",
       "      <td>JCT</td>\n",
       "      <td>67.0</td>\n",
       "      <td>NaN</td>\n",
       "      <td>53.0</td>\n",
       "      <td>NaN</td>\n",
       "      <td>41.0</td>\n",
       "      <td>41.0</td>\n",
       "      <td>33.0</td>\n",
       "      <td>23.0</td>\n",
       "      <td>NaN</td>\n",
       "    </tr>\n",
       "    <tr>\n",
       "      <th>1084380</th>\n",
       "      <td>14839.63</td>\n",
       "      <td>Not In Residence</td>\n",
       "      <td>76.0</td>\n",
       "      <td>75.0</td>\n",
       "      <td>64.0</td>\n",
       "      <td>80.0</td>\n",
       "      <td>80.0</td>\n",
       "      <td>41.0</td>\n",
       "      <td>NaN</td>\n",
       "      <td>NaN</td>\n",
       "      <td>NaN</td>\n",
       "    </tr>\n",
       "    <tr>\n",
       "      <th>1174093</th>\n",
       "      <td>4128.33</td>\n",
       "      <td>BAR</td>\n",
       "      <td>53.0</td>\n",
       "      <td>54.0</td>\n",
       "      <td>NaN</td>\n",
       "      <td>61.0</td>\n",
       "      <td>66.0</td>\n",
       "      <td>NaN</td>\n",
       "      <td>NaN</td>\n",
       "      <td>NaN</td>\n",
       "      <td>NaN</td>\n",
       "    </tr>\n",
       "    <tr>\n",
       "      <th>867062</th>\n",
       "      <td>30574.08</td>\n",
       "      <td>REN</td>\n",
       "      <td>72.0</td>\n",
       "      <td>64.0</td>\n",
       "      <td>61.0</td>\n",
       "      <td>72.0</td>\n",
       "      <td>73.0</td>\n",
       "      <td>55.0</td>\n",
       "      <td>45.0</td>\n",
       "      <td>NaN</td>\n",
       "      <td>NaN</td>\n",
       "    </tr>\n",
       "    <tr>\n",
       "      <th>1038238</th>\n",
       "      <td>999.15</td>\n",
       "      <td>Not In Residence</td>\n",
       "      <td>NaN</td>\n",
       "      <td>NaN</td>\n",
       "      <td>NaN</td>\n",
       "      <td>77.0</td>\n",
       "      <td>NaN</td>\n",
       "      <td>NaN</td>\n",
       "      <td>NaN</td>\n",
       "      <td>NaN</td>\n",
       "      <td>NaN</td>\n",
       "    </tr>\n",
       "    <tr>\n",
       "      <th>1439530</th>\n",
       "      <td>7344.11</td>\n",
       "      <td>Not In Residence</td>\n",
       "      <td>70.0</td>\n",
       "      <td>NaN</td>\n",
       "      <td>NaN</td>\n",
       "      <td>NaN</td>\n",
       "      <td>68.0</td>\n",
       "      <td>56.0</td>\n",
       "      <td>70.0</td>\n",
       "      <td>70.0</td>\n",
       "      <td>73.0</td>\n",
       "    </tr>\n",
       "    <tr>\n",
       "      <th>1277071</th>\n",
       "      <td>307.43</td>\n",
       "      <td>Not In Residence</td>\n",
       "      <td>75.0</td>\n",
       "      <td>50.0</td>\n",
       "      <td>62.0</td>\n",
       "      <td>72.0</td>\n",
       "      <td>42.0</td>\n",
       "      <td>39.0</td>\n",
       "      <td>NaN</td>\n",
       "      <td>NaN</td>\n",
       "      <td>NaN</td>\n",
       "    </tr>\n",
       "    <tr>\n",
       "      <th>813425</th>\n",
       "      <td>609.48</td>\n",
       "      <td>Not In Residence</td>\n",
       "      <td>26.0</td>\n",
       "      <td>41.0</td>\n",
       "      <td>50.0</td>\n",
       "      <td>52.0</td>\n",
       "      <td>65.0</td>\n",
       "      <td>44.0</td>\n",
       "      <td>NaN</td>\n",
       "      <td>NaN</td>\n",
       "      <td>NaN</td>\n",
       "    </tr>\n",
       "    <tr>\n",
       "      <th>1078410</th>\n",
       "      <td>21937.74</td>\n",
       "      <td>DWH</td>\n",
       "      <td>0.0</td>\n",
       "      <td>51.0</td>\n",
       "      <td>67.0</td>\n",
       "      <td>51.0</td>\n",
       "      <td>61.0</td>\n",
       "      <td>40.0</td>\n",
       "      <td>NaN</td>\n",
       "      <td>NaN</td>\n",
       "      <td>NaN</td>\n",
       "    </tr>\n",
       "    <tr>\n",
       "      <th>732595</th>\n",
       "      <td>2768.65</td>\n",
       "      <td>Not In Residence</td>\n",
       "      <td>NaN</td>\n",
       "      <td>NaN</td>\n",
       "      <td>56.0</td>\n",
       "      <td>NaN</td>\n",
       "      <td>NaN</td>\n",
       "      <td>NaN</td>\n",
       "      <td>NaN</td>\n",
       "      <td>0.0</td>\n",
       "      <td>54.0</td>\n",
       "    </tr>\n",
       "    <tr>\n",
       "      <th>890981</th>\n",
       "      <td>546.10</td>\n",
       "      <td>Not In Residence</td>\n",
       "      <td>31.0</td>\n",
       "      <td>29.0</td>\n",
       "      <td>39.0</td>\n",
       "      <td>46.0</td>\n",
       "      <td>46.0</td>\n",
       "      <td>0.0</td>\n",
       "      <td>NaN</td>\n",
       "      <td>NaN</td>\n",
       "      <td>NaN</td>\n",
       "    </tr>\n",
       "    <tr>\n",
       "      <th>811597</th>\n",
       "      <td>15559.64</td>\n",
       "      <td>Not In Residence</td>\n",
       "      <td>NaN</td>\n",
       "      <td>43.0</td>\n",
       "      <td>75.0</td>\n",
       "      <td>46.0</td>\n",
       "      <td>NaN</td>\n",
       "      <td>NaN</td>\n",
       "      <td>NaN</td>\n",
       "      <td>NaN</td>\n",
       "      <td>NaN</td>\n",
       "    </tr>\n",
       "    <tr>\n",
       "      <th>719721</th>\n",
       "      <td>73.55</td>\n",
       "      <td>EOS</td>\n",
       "      <td>38.0</td>\n",
       "      <td>50.0</td>\n",
       "      <td>63.0</td>\n",
       "      <td>58.0</td>\n",
       "      <td>53.0</td>\n",
       "      <td>30.0</td>\n",
       "      <td>NaN</td>\n",
       "      <td>NaN</td>\n",
       "      <td>NaN</td>\n",
       "    </tr>\n",
       "    <tr>\n",
       "      <th>1149483</th>\n",
       "      <td>1038.14</td>\n",
       "      <td>Not In Residence</td>\n",
       "      <td>63.0</td>\n",
       "      <td>66.0</td>\n",
       "      <td>73.0</td>\n",
       "      <td>64.0</td>\n",
       "      <td>75.0</td>\n",
       "      <td>43.0</td>\n",
       "      <td>NaN</td>\n",
       "      <td>NaN</td>\n",
       "      <td>NaN</td>\n",
       "    </tr>\n",
       "    <tr>\n",
       "      <th>1415624</th>\n",
       "      <td>2952.80</td>\n",
       "      <td>Not In Residence</td>\n",
       "      <td>90.0</td>\n",
       "      <td>67.0</td>\n",
       "      <td>NaN</td>\n",
       "      <td>92.0</td>\n",
       "      <td>82.0</td>\n",
       "      <td>51.0</td>\n",
       "      <td>NaN</td>\n",
       "      <td>NaN</td>\n",
       "      <td>82.0</td>\n",
       "    </tr>\n",
       "    <tr>\n",
       "      <th>854677</th>\n",
       "      <td>1670.09</td>\n",
       "      <td>Not In Residence</td>\n",
       "      <td>66.0</td>\n",
       "      <td>NaN</td>\n",
       "      <td>NaN</td>\n",
       "      <td>NaN</td>\n",
       "      <td>76.0</td>\n",
       "      <td>63.0</td>\n",
       "      <td>66.0</td>\n",
       "      <td>80.0</td>\n",
       "      <td>76.0</td>\n",
       "    </tr>\n",
       "    <tr>\n",
       "      <th>1284606</th>\n",
       "      <td>37.30</td>\n",
       "      <td>Not In Residence</td>\n",
       "      <td>40.0</td>\n",
       "      <td>70.0</td>\n",
       "      <td>63.0</td>\n",
       "      <td>73.0</td>\n",
       "      <td>80.0</td>\n",
       "      <td>55.0</td>\n",
       "      <td>NaN</td>\n",
       "      <td>NaN</td>\n",
       "      <td>NaN</td>\n",
       "    </tr>\n",
       "    <tr>\n",
       "      <th>886515</th>\n",
       "      <td>33.48</td>\n",
       "      <td>Not In Residence</td>\n",
       "      <td>84.0</td>\n",
       "      <td>56.0</td>\n",
       "      <td>73.0</td>\n",
       "      <td>86.0</td>\n",
       "      <td>73.0</td>\n",
       "      <td>58.0</td>\n",
       "      <td>NaN</td>\n",
       "      <td>NaN</td>\n",
       "      <td>NaN</td>\n",
       "    </tr>\n",
       "    <tr>\n",
       "      <th>867109</th>\n",
       "      <td>536.85</td>\n",
       "      <td>Not In Residence</td>\n",
       "      <td>56.0</td>\n",
       "      <td>53.0</td>\n",
       "      <td>77.0</td>\n",
       "      <td>70.0</td>\n",
       "      <td>50.0</td>\n",
       "      <td>36.0</td>\n",
       "      <td>NaN</td>\n",
       "      <td>NaN</td>\n",
       "      <td>NaN</td>\n",
       "    </tr>\n",
       "    <tr>\n",
       "      <th>1121743</th>\n",
       "      <td>17000.78</td>\n",
       "      <td>REI</td>\n",
       "      <td>62.0</td>\n",
       "      <td>60.0</td>\n",
       "      <td>75.0</td>\n",
       "      <td>65.0</td>\n",
       "      <td>72.0</td>\n",
       "      <td>51.0</td>\n",
       "      <td>NaN</td>\n",
       "      <td>NaN</td>\n",
       "      <td>NaN</td>\n",
       "    </tr>\n",
       "    <tr>\n",
       "      <th>1434853</th>\n",
       "      <td>501.93</td>\n",
       "      <td>Not In Residence</td>\n",
       "      <td>NaN</td>\n",
       "      <td>42.0</td>\n",
       "      <td>NaN</td>\n",
       "      <td>64.0</td>\n",
       "      <td>NaN</td>\n",
       "      <td>NaN</td>\n",
       "      <td>NaN</td>\n",
       "      <td>NaN</td>\n",
       "      <td>NaN</td>\n",
       "    </tr>\n",
       "    <tr>\n",
       "      <th>815108</th>\n",
       "      <td>200.26</td>\n",
       "      <td>MHR</td>\n",
       "      <td>NaN</td>\n",
       "      <td>38.0</td>\n",
       "      <td>NaN</td>\n",
       "      <td>50.0</td>\n",
       "      <td>NaN</td>\n",
       "      <td>NaN</td>\n",
       "      <td>NaN</td>\n",
       "      <td>NaN</td>\n",
       "      <td>NaN</td>\n",
       "    </tr>\n",
       "    <tr>\n",
       "      <th>1429980</th>\n",
       "      <td>1168.37</td>\n",
       "      <td>Not In Residence</td>\n",
       "      <td>71.0</td>\n",
       "      <td>50.0</td>\n",
       "      <td>80.0</td>\n",
       "      <td>60.0</td>\n",
       "      <td>47.0</td>\n",
       "      <td>50.0</td>\n",
       "      <td>NaN</td>\n",
       "      <td>NaN</td>\n",
       "      <td>NaN</td>\n",
       "    </tr>\n",
       "    <tr>\n",
       "      <th>1312548</th>\n",
       "      <td>44.02</td>\n",
       "      <td>Not In Residence</td>\n",
       "      <td>66.0</td>\n",
       "      <td>NaN</td>\n",
       "      <td>70.0</td>\n",
       "      <td>70.0</td>\n",
       "      <td>NaN</td>\n",
       "      <td>NaN</td>\n",
       "      <td>NaN</td>\n",
       "      <td>NaN</td>\n",
       "      <td>NaN</td>\n",
       "    </tr>\n",
       "    <tr>\n",
       "      <th>683937</th>\n",
       "      <td>104.35</td>\n",
       "      <td>Not In Residence</td>\n",
       "      <td>65.0</td>\n",
       "      <td>50.0</td>\n",
       "      <td>80.0</td>\n",
       "      <td>73.0</td>\n",
       "      <td>63.0</td>\n",
       "      <td>61.0</td>\n",
       "      <td>NaN</td>\n",
       "      <td>NaN</td>\n",
       "      <td>NaN</td>\n",
       "    </tr>\n",
       "    <tr>\n",
       "      <th>...</th>\n",
       "      <td>...</td>\n",
       "      <td>...</td>\n",
       "      <td>...</td>\n",
       "      <td>...</td>\n",
       "      <td>...</td>\n",
       "      <td>...</td>\n",
       "      <td>...</td>\n",
       "      <td>...</td>\n",
       "      <td>...</td>\n",
       "      <td>...</td>\n",
       "      <td>...</td>\n",
       "    </tr>\n",
       "    <tr>\n",
       "      <th>679359</th>\n",
       "      <td>1587.83</td>\n",
       "      <td>Not In Residence</td>\n",
       "      <td>41.0</td>\n",
       "      <td>40.0</td>\n",
       "      <td>55.0</td>\n",
       "      <td>71.0</td>\n",
       "      <td>67.0</td>\n",
       "      <td>40.0</td>\n",
       "      <td>NaN</td>\n",
       "      <td>NaN</td>\n",
       "      <td>NaN</td>\n",
       "    </tr>\n",
       "    <tr>\n",
       "      <th>604124</th>\n",
       "      <td>3281.57</td>\n",
       "      <td>Not In Residence</td>\n",
       "      <td>54.0</td>\n",
       "      <td>52.0</td>\n",
       "      <td>64.0</td>\n",
       "      <td>56.0</td>\n",
       "      <td>36.0</td>\n",
       "      <td>NaN</td>\n",
       "      <td>NaN</td>\n",
       "      <td>NaN</td>\n",
       "      <td>NaN</td>\n",
       "    </tr>\n",
       "    <tr>\n",
       "      <th>540467</th>\n",
       "      <td>3367.28</td>\n",
       "      <td>Not In Residence</td>\n",
       "      <td>0.0</td>\n",
       "      <td>68.0</td>\n",
       "      <td>60.0</td>\n",
       "      <td>70.0</td>\n",
       "      <td>64.0</td>\n",
       "      <td>50.0</td>\n",
       "      <td>NaN</td>\n",
       "      <td>NaN</td>\n",
       "      <td>0.0</td>\n",
       "    </tr>\n",
       "    <tr>\n",
       "      <th>608598</th>\n",
       "      <td>1060.81</td>\n",
       "      <td>Not In Residence</td>\n",
       "      <td>54.0</td>\n",
       "      <td>55.0</td>\n",
       "      <td>70.0</td>\n",
       "      <td>63.0</td>\n",
       "      <td>66.0</td>\n",
       "      <td>45.0</td>\n",
       "      <td>NaN</td>\n",
       "      <td>NaN</td>\n",
       "      <td>NaN</td>\n",
       "    </tr>\n",
       "    <tr>\n",
       "      <th>729117</th>\n",
       "      <td>1307.08</td>\n",
       "      <td>REN</td>\n",
       "      <td>61.0</td>\n",
       "      <td>70.0</td>\n",
       "      <td>77.0</td>\n",
       "      <td>90.0</td>\n",
       "      <td>72.0</td>\n",
       "      <td>50.0</td>\n",
       "      <td>NaN</td>\n",
       "      <td>NaN</td>\n",
       "      <td>NaN</td>\n",
       "    </tr>\n",
       "    <tr>\n",
       "      <th>708146</th>\n",
       "      <td>607.11</td>\n",
       "      <td>Not In Residence</td>\n",
       "      <td>81.0</td>\n",
       "      <td>70.0</td>\n",
       "      <td>63.0</td>\n",
       "      <td>77.0</td>\n",
       "      <td>61.0</td>\n",
       "      <td>50.0</td>\n",
       "      <td>NaN</td>\n",
       "      <td>NaN</td>\n",
       "      <td>58.0</td>\n",
       "    </tr>\n",
       "    <tr>\n",
       "      <th>710005</th>\n",
       "      <td>5683.82</td>\n",
       "      <td>Not In Residence</td>\n",
       "      <td>60.0</td>\n",
       "      <td>63.0</td>\n",
       "      <td>62.0</td>\n",
       "      <td>71.0</td>\n",
       "      <td>72.0</td>\n",
       "      <td>67.0</td>\n",
       "      <td>NaN</td>\n",
       "      <td>NaN</td>\n",
       "      <td>NaN</td>\n",
       "    </tr>\n",
       "    <tr>\n",
       "      <th>718329</th>\n",
       "      <td>7011.36</td>\n",
       "      <td>JCT</td>\n",
       "      <td>68.0</td>\n",
       "      <td>76.0</td>\n",
       "      <td>75.0</td>\n",
       "      <td>72.0</td>\n",
       "      <td>50.0</td>\n",
       "      <td>53.0</td>\n",
       "      <td>NaN</td>\n",
       "      <td>NaN</td>\n",
       "      <td>NaN</td>\n",
       "    </tr>\n",
       "    <tr>\n",
       "      <th>698679</th>\n",
       "      <td>9442.32</td>\n",
       "      <td>Not In Residence</td>\n",
       "      <td>48.0</td>\n",
       "      <td>55.0</td>\n",
       "      <td>71.0</td>\n",
       "      <td>67.0</td>\n",
       "      <td>65.0</td>\n",
       "      <td>44.0</td>\n",
       "      <td>NaN</td>\n",
       "      <td>NaN</td>\n",
       "      <td>NaN</td>\n",
       "    </tr>\n",
       "    <tr>\n",
       "      <th>749889</th>\n",
       "      <td>21187.23</td>\n",
       "      <td>Not In Residence</td>\n",
       "      <td>56.0</td>\n",
       "      <td>50.0</td>\n",
       "      <td>50.0</td>\n",
       "      <td>70.0</td>\n",
       "      <td>55.0</td>\n",
       "      <td>27.0</td>\n",
       "      <td>32.0</td>\n",
       "      <td>NaN</td>\n",
       "      <td>50.0</td>\n",
       "    </tr>\n",
       "    <tr>\n",
       "      <th>791937</th>\n",
       "      <td>11679.67</td>\n",
       "      <td>Not In Residence</td>\n",
       "      <td>66.0</td>\n",
       "      <td>64.0</td>\n",
       "      <td>96.0</td>\n",
       "      <td>66.0</td>\n",
       "      <td>75.0</td>\n",
       "      <td>70.0</td>\n",
       "      <td>NaN</td>\n",
       "      <td>NaN</td>\n",
       "      <td>NaN</td>\n",
       "    </tr>\n",
       "    <tr>\n",
       "      <th>793294</th>\n",
       "      <td>22003.41</td>\n",
       "      <td>Not In Residence</td>\n",
       "      <td>60.0</td>\n",
       "      <td>52.0</td>\n",
       "      <td>55.0</td>\n",
       "      <td>81.0</td>\n",
       "      <td>80.0</td>\n",
       "      <td>54.0</td>\n",
       "      <td>NaN</td>\n",
       "      <td>NaN</td>\n",
       "      <td>NaN</td>\n",
       "    </tr>\n",
       "    <tr>\n",
       "      <th>787656</th>\n",
       "      <td>3241.00</td>\n",
       "      <td>Not In Residence</td>\n",
       "      <td>38.0</td>\n",
       "      <td>24.0</td>\n",
       "      <td>71.0</td>\n",
       "      <td>32.0</td>\n",
       "      <td>19.0</td>\n",
       "      <td>36.0</td>\n",
       "      <td>NaN</td>\n",
       "      <td>NaN</td>\n",
       "      <td>NaN</td>\n",
       "    </tr>\n",
       "    <tr>\n",
       "      <th>747011</th>\n",
       "      <td>86.18</td>\n",
       "      <td>Not In Residence</td>\n",
       "      <td>62.0</td>\n",
       "      <td>58.0</td>\n",
       "      <td>57.0</td>\n",
       "      <td>90.0</td>\n",
       "      <td>71.0</td>\n",
       "      <td>51.0</td>\n",
       "      <td>NaN</td>\n",
       "      <td>NaN</td>\n",
       "      <td>NaN</td>\n",
       "    </tr>\n",
       "    <tr>\n",
       "      <th>747582</th>\n",
       "      <td>14492.28</td>\n",
       "      <td>Not In Residence</td>\n",
       "      <td>65.0</td>\n",
       "      <td>63.0</td>\n",
       "      <td>62.0</td>\n",
       "      <td>59.0</td>\n",
       "      <td>70.0</td>\n",
       "      <td>50.0</td>\n",
       "      <td>NaN</td>\n",
       "      <td>NaN</td>\n",
       "      <td>NaN</td>\n",
       "    </tr>\n",
       "    <tr>\n",
       "      <th>776115</th>\n",
       "      <td>11435.23</td>\n",
       "      <td>Not In Residence</td>\n",
       "      <td>70.0</td>\n",
       "      <td>NaN</td>\n",
       "      <td>66.0</td>\n",
       "      <td>NaN</td>\n",
       "      <td>63.0</td>\n",
       "      <td>51.0</td>\n",
       "      <td>60.0</td>\n",
       "      <td>75.0</td>\n",
       "      <td>NaN</td>\n",
       "    </tr>\n",
       "    <tr>\n",
       "      <th>734629</th>\n",
       "      <td>4170.10</td>\n",
       "      <td>Not In Residence</td>\n",
       "      <td>50.0</td>\n",
       "      <td>42.0</td>\n",
       "      <td>72.0</td>\n",
       "      <td>70.0</td>\n",
       "      <td>61.0</td>\n",
       "      <td>35.0</td>\n",
       "      <td>NaN</td>\n",
       "      <td>NaN</td>\n",
       "      <td>NaN</td>\n",
       "    </tr>\n",
       "    <tr>\n",
       "      <th>828301</th>\n",
       "      <td>1.40</td>\n",
       "      <td>Not In Residence</td>\n",
       "      <td>NaN</td>\n",
       "      <td>NaN</td>\n",
       "      <td>NaN</td>\n",
       "      <td>NaN</td>\n",
       "      <td>51.0</td>\n",
       "      <td>NaN</td>\n",
       "      <td>NaN</td>\n",
       "      <td>NaN</td>\n",
       "      <td>NaN</td>\n",
       "    </tr>\n",
       "    <tr>\n",
       "      <th>800361</th>\n",
       "      <td>3212.88</td>\n",
       "      <td>Not In Residence</td>\n",
       "      <td>26.0</td>\n",
       "      <td>39.0</td>\n",
       "      <td>50.0</td>\n",
       "      <td>32.0</td>\n",
       "      <td>23.0</td>\n",
       "      <td>26.0</td>\n",
       "      <td>NaN</td>\n",
       "      <td>NaN</td>\n",
       "      <td>NaN</td>\n",
       "    </tr>\n",
       "    <tr>\n",
       "      <th>818683</th>\n",
       "      <td>27721.35</td>\n",
       "      <td>Not In Residence</td>\n",
       "      <td>50.0</td>\n",
       "      <td>52.0</td>\n",
       "      <td>64.0</td>\n",
       "      <td>70.0</td>\n",
       "      <td>62.0</td>\n",
       "      <td>52.0</td>\n",
       "      <td>NaN</td>\n",
       "      <td>NaN</td>\n",
       "      <td>NaN</td>\n",
       "    </tr>\n",
       "    <tr>\n",
       "      <th>804730</th>\n",
       "      <td>347.63</td>\n",
       "      <td>REN</td>\n",
       "      <td>0.0</td>\n",
       "      <td>40.0</td>\n",
       "      <td>58.0</td>\n",
       "      <td>0.0</td>\n",
       "      <td>57.0</td>\n",
       "      <td>0.0</td>\n",
       "      <td>NaN</td>\n",
       "      <td>NaN</td>\n",
       "      <td>0.0</td>\n",
       "    </tr>\n",
       "    <tr>\n",
       "      <th>797880</th>\n",
       "      <td>5063.88</td>\n",
       "      <td>Not In Residence</td>\n",
       "      <td>NaN</td>\n",
       "      <td>NaN</td>\n",
       "      <td>67.0</td>\n",
       "      <td>78.0</td>\n",
       "      <td>NaN</td>\n",
       "      <td>NaN</td>\n",
       "      <td>NaN</td>\n",
       "      <td>NaN</td>\n",
       "      <td>NaN</td>\n",
       "    </tr>\n",
       "    <tr>\n",
       "      <th>797887</th>\n",
       "      <td>40200.73</td>\n",
       "      <td>Not In Residence</td>\n",
       "      <td>57.0</td>\n",
       "      <td>NaN</td>\n",
       "      <td>NaN</td>\n",
       "      <td>9.0</td>\n",
       "      <td>18.0</td>\n",
       "      <td>40.0</td>\n",
       "      <td>NaN</td>\n",
       "      <td>4.0</td>\n",
       "      <td>44.0</td>\n",
       "    </tr>\n",
       "    <tr>\n",
       "      <th>853814</th>\n",
       "      <td>7776.00</td>\n",
       "      <td>Not In Residence</td>\n",
       "      <td>53.0</td>\n",
       "      <td>50.0</td>\n",
       "      <td>60.0</td>\n",
       "      <td>50.0</td>\n",
       "      <td>31.0</td>\n",
       "      <td>35.0</td>\n",
       "      <td>NaN</td>\n",
       "      <td>NaN</td>\n",
       "      <td>NaN</td>\n",
       "    </tr>\n",
       "    <tr>\n",
       "      <th>857656</th>\n",
       "      <td>1734.87</td>\n",
       "      <td>REN</td>\n",
       "      <td>68.0</td>\n",
       "      <td>50.0</td>\n",
       "      <td>57.0</td>\n",
       "      <td>62.0</td>\n",
       "      <td>63.0</td>\n",
       "      <td>44.0</td>\n",
       "      <td>56.0</td>\n",
       "      <td>73.0</td>\n",
       "      <td>NaN</td>\n",
       "    </tr>\n",
       "    <tr>\n",
       "      <th>908936</th>\n",
       "      <td>4942.24</td>\n",
       "      <td>YVL</td>\n",
       "      <td>27.0</td>\n",
       "      <td>36.0</td>\n",
       "      <td>51.0</td>\n",
       "      <td>55.0</td>\n",
       "      <td>52.0</td>\n",
       "      <td>22.0</td>\n",
       "      <td>NaN</td>\n",
       "      <td>NaN</td>\n",
       "      <td>NaN</td>\n",
       "    </tr>\n",
       "    <tr>\n",
       "      <th>886156</th>\n",
       "      <td>240.00</td>\n",
       "      <td>BAR</td>\n",
       "      <td>48.0</td>\n",
       "      <td>53.0</td>\n",
       "      <td>56.0</td>\n",
       "      <td>86.0</td>\n",
       "      <td>64.0</td>\n",
       "      <td>35.0</td>\n",
       "      <td>NaN</td>\n",
       "      <td>NaN</td>\n",
       "      <td>NaN</td>\n",
       "    </tr>\n",
       "    <tr>\n",
       "      <th>915702</th>\n",
       "      <td>1393.93</td>\n",
       "      <td>Not In Residence</td>\n",
       "      <td>24.0</td>\n",
       "      <td>32.0</td>\n",
       "      <td>50.0</td>\n",
       "      <td>50.0</td>\n",
       "      <td>26.0</td>\n",
       "      <td>9.0</td>\n",
       "      <td>NaN</td>\n",
       "      <td>NaN</td>\n",
       "      <td>NaN</td>\n",
       "    </tr>\n",
       "    <tr>\n",
       "      <th>895253</th>\n",
       "      <td>4604.86</td>\n",
       "      <td>REN</td>\n",
       "      <td>0.0</td>\n",
       "      <td>24.0</td>\n",
       "      <td>29.0</td>\n",
       "      <td>52.0</td>\n",
       "      <td>56.0</td>\n",
       "      <td>15.0</td>\n",
       "      <td>NaN</td>\n",
       "      <td>NaN</td>\n",
       "      <td>NaN</td>\n",
       "    </tr>\n",
       "    <tr>\n",
       "      <th>704529</th>\n",
       "      <td>263.14</td>\n",
       "      <td>Not In Residence</td>\n",
       "      <td>50.0</td>\n",
       "      <td>41.0</td>\n",
       "      <td>85.0</td>\n",
       "      <td>62.0</td>\n",
       "      <td>68.0</td>\n",
       "      <td>32.0</td>\n",
       "      <td>48.0</td>\n",
       "      <td>NaN</td>\n",
       "      <td>NaN</td>\n",
       "    </tr>\n",
       "  </tbody>\n",
       "</table>\n",
       "<p>141 rows × 11 columns</p>\n",
       "</div>"
      ],
      "text/plain": [
       "         Duration         Residence  Group Theory III  Leontief Systems III  \\\n",
       "870702    7282.38               JCT              45.0                  61.0   \n",
       "795009    1188.60  Not In Residence              46.0                  50.0   \n",
       "1425583   5733.33  Not In Residence               NaN                  60.0   \n",
       "835527    2429.28               REN              61.0                  65.0   \n",
       "1126582  18092.29               REI              78.0                  70.0   \n",
       "...           ...               ...               ...                   ...   \n",
       "908936    4942.24               YVL              27.0                  36.0   \n",
       "886156     240.00               BAR              48.0                  53.0   \n",
       "915702    1393.93  Not In Residence              24.0                  32.0   \n",
       "895253    4604.86               REN               0.0                  24.0   \n",
       "704529     263.14  Not In Residence              50.0                  41.0   \n",
       "\n",
       "         Number Theory III  Coding and Cryptography III  Complex Analysis III  \\\n",
       "870702                 NaN                          NaN                   NaN   \n",
       "795009                55.0                         72.0                  60.0   \n",
       "1425583               78.0                         63.0                   NaN   \n",
       "835527                61.0                         76.0                  80.0   \n",
       "1126582               78.0                         80.0                  80.0   \n",
       "...                    ...                          ...                   ...   \n",
       "908936                51.0                         55.0                  52.0   \n",
       "886156                56.0                         86.0                  64.0   \n",
       "915702                50.0                         50.0                  26.0   \n",
       "895253                29.0                         52.0                  56.0   \n",
       "704529                85.0                         62.0                  68.0   \n",
       "\n",
       "         Real Analysis III  Rings and Fields III  Differential Geometry III  \\\n",
       "870702                 NaN                   NaN                        NaN   \n",
       "795009                26.0                   NaN                        NaN   \n",
       "1425583                NaN                   NaN                        NaN   \n",
       "835527                44.0                   NaN                        NaN   \n",
       "1126582               55.0                   NaN                        NaN   \n",
       "...                    ...                   ...                        ...   \n",
       "908936                22.0                   NaN                        NaN   \n",
       "886156                35.0                   NaN                        NaN   \n",
       "915702                 9.0                   NaN                        NaN   \n",
       "895253                15.0                   NaN                        NaN   \n",
       "704529                32.0                  48.0                        NaN   \n",
       "\n",
       "         Topology III  \n",
       "870702            NaN  \n",
       "795009            NaN  \n",
       "1425583           NaN  \n",
       "835527            NaN  \n",
       "1126582           NaN  \n",
       "...               ...  \n",
       "908936            NaN  \n",
       "886156            NaN  \n",
       "915702            NaN  \n",
       "895253            NaN  \n",
       "704529            NaN  \n",
       "\n",
       "[141 rows x 11 columns]"
      ]
     },
     "execution_count": 164,
     "metadata": {},
     "output_type": "execute_result"
    }
   ],
   "source": [
    "a"
   ]
  },
  {
   "cell_type": "code",
   "execution_count": 176,
   "metadata": {},
   "outputs": [
    {
     "data": {
      "text/plain": [
       "<matplotlib.axes._subplots.AxesSubplot at 0x2a9d2ca0c50>"
      ]
     },
     "execution_count": 176,
     "metadata": {},
     "output_type": "execute_result"
    },
    {
     "data": {
      "image/png": "[encoded data removed]",
      "text/plain": [
       "<Figure size 1440x1080 with 1 Axes>"
      ]
     },
     "metadata": {
      "needs_background": "light"
     },
     "output_type": "display_data"
    }
   ],
   "source": [
    "fig, ax = plt.subplots(figsize = (20,15))\n",
    "sns.scatterplot(data = a, x = 'Duration', y = 'Group Theory III', size = 'Real Analysis III', sizes = (40,100), hue = 'Residence', hue_order = None, palette='gist_rainbow')"
   ]
  }
 ],
 "metadata": {
  "kernelspec": {
   "display_name": "Python 3",
   "language": "python",
   "name": "python3"
  },
  "language_info": {
   "codemirror_mode": {
    "name": "ipython",
    "version": 3
   },
   "file_extension": ".py",
   "mimetype": "text/x-python",
   "name": "python",
   "nbconvert_exporter": "python",
   "pygments_lexer": "ipython3",
   "version": "3.6.9"
  }
 },
 "nbformat": 4,
 "nbformat_minor": 2
}
